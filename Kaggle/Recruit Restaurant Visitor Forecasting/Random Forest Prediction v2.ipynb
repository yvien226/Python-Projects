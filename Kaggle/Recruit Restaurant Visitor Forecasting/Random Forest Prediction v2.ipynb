{
 "cells": [
  {
   "cell_type": "markdown",
   "metadata": {},
   "source": [
    "# Version 2 note:\n",
    "- Added a few more features, which is the min,max,median,and mean visitors and count observation based on the store id and the day of week. Other features used in v1 will also be included.\n",
    "- Data transformation method: Label Encoding\n",
    "- Model used: Random Forest Regressor"
   ]
  },
  {
   "cell_type": "markdown",
   "metadata": {},
   "source": [
    "# Import Packages"
   ]
  },
  {
   "cell_type": "code",
   "execution_count": 24,
   "metadata": {},
   "outputs": [],
   "source": [
    "import numpy as np\n",
    "import pandas as pd\n",
    "import seaborn as sns\n",
    "import matplotlib.pyplot as plt\n",
    "from sklearn import *\n",
    "from sklearn.model_selection import train_test_split\n",
    "from sklearn.ensemble import RandomForestRegressor\n",
    "from datetime import datetime\n",
    "\n",
    "%matplotlib inline"
   ]
  },
  {
   "cell_type": "markdown",
   "metadata": {},
   "source": [
    "# Import Data "
   ]
  },
  {
   "cell_type": "code",
   "execution_count": 25,
   "metadata": {},
   "outputs": [],
   "source": [
    "# data folder name\n",
    "DATA_FOLDER_NAME = 'data/'\n",
    "\n",
    "# submissions folder name\n",
    "SUB_FOLDER_NAME = 'submissions/'\n",
    "\n",
    "# import visitor data\n",
    "air_visit_data = pd.read_csv(DATA_FOLDER_NAME + 'air_visit_data.csv')\n",
    "\n",
    "# import air info and date info data\n",
    "air_store_info = pd.read_csv(DATA_FOLDER_NAME + 'air_store_info.csv')\n",
    "date_info = pd.read_csv(DATA_FOLDER_NAME + 'date_info.csv')\n",
    "\n",
    "# import sample submission (use for testing)\n",
    "submission = pd.read_csv(DATA_FOLDER_NAME + 'sample_submission.csv')"
   ]
  },
  {
   "cell_type": "markdown",
   "metadata": {},
   "source": [
    "# Preprocessing Data"
   ]
  },
  {
   "cell_type": "markdown",
   "metadata": {},
   "source": [
    "### Features to include\n",
    "- month number\n",
    "- day of week\n",
    "- holiday flag\n",
    "- genre\n",
    "- area name\n",
    "- is weekend\n",
    "- min visitors\n",
    "- max visitors\n",
    "- median visitors\n",
    "- mean visitors\n",
    "- count observations"
   ]
  },
  {
   "cell_type": "code",
   "execution_count": 26,
   "metadata": {},
   "outputs": [
    {
     "data": {
      "text/html": [
       "<div>\n",
       "<style scoped>\n",
       "    .dataframe tbody tr th:only-of-type {\n",
       "        vertical-align: middle;\n",
       "    }\n",
       "\n",
       "    .dataframe tbody tr th {\n",
       "        vertical-align: top;\n",
       "    }\n",
       "\n",
       "    .dataframe thead th {\n",
       "        text-align: right;\n",
       "    }\n",
       "</style>\n",
       "<table border=\"1\" class=\"dataframe\">\n",
       "  <thead>\n",
       "    <tr style=\"text-align: right;\">\n",
       "      <th></th>\n",
       "      <th>id</th>\n",
       "      <th>visitors</th>\n",
       "      <th>air_store_id</th>\n",
       "      <th>visit_date</th>\n",
       "      <th>is_for_submission</th>\n",
       "    </tr>\n",
       "  </thead>\n",
       "  <tbody>\n",
       "    <tr>\n",
       "      <th>0</th>\n",
       "      <td>air_00a91d42b08b08d9_2017-04-23</td>\n",
       "      <td>NaN</td>\n",
       "      <td>air_00a91d42b08b08d9</td>\n",
       "      <td>2017-04-23</td>\n",
       "      <td>1</td>\n",
       "    </tr>\n",
       "    <tr>\n",
       "      <th>1</th>\n",
       "      <td>air_00a91d42b08b08d9_2017-04-24</td>\n",
       "      <td>NaN</td>\n",
       "      <td>air_00a91d42b08b08d9</td>\n",
       "      <td>2017-04-24</td>\n",
       "      <td>1</td>\n",
       "    </tr>\n",
       "    <tr>\n",
       "      <th>2</th>\n",
       "      <td>air_00a91d42b08b08d9_2017-04-25</td>\n",
       "      <td>NaN</td>\n",
       "      <td>air_00a91d42b08b08d9</td>\n",
       "      <td>2017-04-25</td>\n",
       "      <td>1</td>\n",
       "    </tr>\n",
       "    <tr>\n",
       "      <th>3</th>\n",
       "      <td>air_00a91d42b08b08d9_2017-04-26</td>\n",
       "      <td>NaN</td>\n",
       "      <td>air_00a91d42b08b08d9</td>\n",
       "      <td>2017-04-26</td>\n",
       "      <td>1</td>\n",
       "    </tr>\n",
       "    <tr>\n",
       "      <th>4</th>\n",
       "      <td>air_00a91d42b08b08d9_2017-04-27</td>\n",
       "      <td>NaN</td>\n",
       "      <td>air_00a91d42b08b08d9</td>\n",
       "      <td>2017-04-27</td>\n",
       "      <td>1</td>\n",
       "    </tr>\n",
       "  </tbody>\n",
       "</table>\n",
       "</div>"
      ],
      "text/plain": [
       "                                id  visitors          air_store_id  \\\n",
       "0  air_00a91d42b08b08d9_2017-04-23       NaN  air_00a91d42b08b08d9   \n",
       "1  air_00a91d42b08b08d9_2017-04-24       NaN  air_00a91d42b08b08d9   \n",
       "2  air_00a91d42b08b08d9_2017-04-25       NaN  air_00a91d42b08b08d9   \n",
       "3  air_00a91d42b08b08d9_2017-04-26       NaN  air_00a91d42b08b08d9   \n",
       "4  air_00a91d42b08b08d9_2017-04-27       NaN  air_00a91d42b08b08d9   \n",
       "\n",
       "   visit_date  is_for_submission  \n",
       "0  2017-04-23                  1  \n",
       "1  2017-04-24                  1  \n",
       "2  2017-04-25                  1  \n",
       "3  2017-04-26                  1  \n",
       "4  2017-04-27                  1  "
      ]
     },
     "execution_count": 26,
     "metadata": {},
     "output_type": "execute_result"
    }
   ],
   "source": [
    "# adjust the submission file (that will be use to predict and submit) to match the air_visit data\n",
    "submission['air_store_id'] = submission['id'].str.slice(0, 20)\n",
    "submission['visit_date'] = submission['id'].str.slice(21)\n",
    "submission['visitors'] = np.nan\n",
    "submission['is_for_submission'] = 1\n",
    "\n",
    "submission.head()"
   ]
  },
  {
   "cell_type": "code",
   "execution_count": 27,
   "metadata": {},
   "outputs": [
    {
     "name": "stderr",
     "output_type": "stream",
     "text": [
      "c:\\program files\\python\\python35\\lib\\site-packages\\ipykernel_launcher.py:3: FutureWarning: Sorting because non-concatenation axis is not aligned. A future version\n",
      "of pandas will change to not sort by default.\n",
      "\n",
      "To accept the future behavior, pass 'sort=False'.\n",
      "\n",
      "To retain the current behavior and silence the warning, pass 'sort=True'.\n",
      "\n",
      "  This is separate from the ipykernel package so we can avoid doing imports until\n"
     ]
    }
   ],
   "source": [
    " # join both the air visit data and submission records\n",
    "air_visit_data['is_for_submission'] = 0\n",
    "full_data = pd.concat((air_visit_data, submission.drop('id',axis='columns')))"
   ]
  },
  {
   "cell_type": "code",
   "execution_count": 28,
   "metadata": {},
   "outputs": [
    {
     "data": {
      "text/plain": [
       "(284127, 4)"
      ]
     },
     "execution_count": 28,
     "metadata": {},
     "output_type": "execute_result"
    }
   ],
   "source": [
    "# full data size\n",
    "full_data.shape"
   ]
  },
  {
   "cell_type": "code",
   "execution_count": 29,
   "metadata": {},
   "outputs": [
    {
     "data": {
      "text/html": [
       "<div>\n",
       "<style scoped>\n",
       "    .dataframe tbody tr th:only-of-type {\n",
       "        vertical-align: middle;\n",
       "    }\n",
       "\n",
       "    .dataframe tbody tr th {\n",
       "        vertical-align: top;\n",
       "    }\n",
       "\n",
       "    .dataframe thead th {\n",
       "        text-align: right;\n",
       "    }\n",
       "</style>\n",
       "<table border=\"1\" class=\"dataframe\">\n",
       "  <thead>\n",
       "    <tr style=\"text-align: right;\">\n",
       "      <th></th>\n",
       "      <th>air_store_id</th>\n",
       "      <th>is_for_submission</th>\n",
       "      <th>visit_date</th>\n",
       "      <th>visitors</th>\n",
       "    </tr>\n",
       "  </thead>\n",
       "  <tbody>\n",
       "    <tr>\n",
       "      <th>0</th>\n",
       "      <td>air_ba937bf13d40fb24</td>\n",
       "      <td>0</td>\n",
       "      <td>2016-01-13</td>\n",
       "      <td>25.0</td>\n",
       "    </tr>\n",
       "    <tr>\n",
       "      <th>1</th>\n",
       "      <td>air_ba937bf13d40fb24</td>\n",
       "      <td>0</td>\n",
       "      <td>2016-01-14</td>\n",
       "      <td>32.0</td>\n",
       "    </tr>\n",
       "    <tr>\n",
       "      <th>2</th>\n",
       "      <td>air_ba937bf13d40fb24</td>\n",
       "      <td>0</td>\n",
       "      <td>2016-01-15</td>\n",
       "      <td>29.0</td>\n",
       "    </tr>\n",
       "    <tr>\n",
       "      <th>3</th>\n",
       "      <td>air_ba937bf13d40fb24</td>\n",
       "      <td>0</td>\n",
       "      <td>2016-01-16</td>\n",
       "      <td>22.0</td>\n",
       "    </tr>\n",
       "    <tr>\n",
       "      <th>4</th>\n",
       "      <td>air_ba937bf13d40fb24</td>\n",
       "      <td>0</td>\n",
       "      <td>2016-01-18</td>\n",
       "      <td>6.0</td>\n",
       "    </tr>\n",
       "  </tbody>\n",
       "</table>\n",
       "</div>"
      ],
      "text/plain": [
       "           air_store_id  is_for_submission  visit_date  visitors\n",
       "0  air_ba937bf13d40fb24                  0  2016-01-13      25.0\n",
       "1  air_ba937bf13d40fb24                  0  2016-01-14      32.0\n",
       "2  air_ba937bf13d40fb24                  0  2016-01-15      29.0\n",
       "3  air_ba937bf13d40fb24                  0  2016-01-16      22.0\n",
       "4  air_ba937bf13d40fb24                  0  2016-01-18       6.0"
      ]
     },
     "execution_count": 29,
     "metadata": {},
     "output_type": "execute_result"
    }
   ],
   "source": [
    "full_data.head()"
   ]
  },
  {
   "cell_type": "code",
   "execution_count": 30,
   "metadata": {},
   "outputs": [
    {
     "data": {
      "text/html": [
       "<div>\n",
       "<style scoped>\n",
       "    .dataframe tbody tr th:only-of-type {\n",
       "        vertical-align: middle;\n",
       "    }\n",
       "\n",
       "    .dataframe tbody tr th {\n",
       "        vertical-align: top;\n",
       "    }\n",
       "\n",
       "    .dataframe thead th {\n",
       "        text-align: right;\n",
       "    }\n",
       "</style>\n",
       "<table border=\"1\" class=\"dataframe\">\n",
       "  <thead>\n",
       "    <tr style=\"text-align: right;\">\n",
       "      <th></th>\n",
       "      <th>air_store_id</th>\n",
       "      <th>is_for_submission</th>\n",
       "      <th>visit_date</th>\n",
       "      <th>visitors</th>\n",
       "      <th>day_of_week</th>\n",
       "      <th>holiday_flg</th>\n",
       "      <th>air_genre_name</th>\n",
       "      <th>air_area_name</th>\n",
       "      <th>latitude</th>\n",
       "      <th>longitude</th>\n",
       "    </tr>\n",
       "  </thead>\n",
       "  <tbody>\n",
       "    <tr>\n",
       "      <th>0</th>\n",
       "      <td>air_ba937bf13d40fb24</td>\n",
       "      <td>0</td>\n",
       "      <td>2016-01-13</td>\n",
       "      <td>25.0</td>\n",
       "      <td>Wednesday</td>\n",
       "      <td>0</td>\n",
       "      <td>Dining bar</td>\n",
       "      <td>Tōkyō-to Minato-ku Shibakōen</td>\n",
       "      <td>35.658068</td>\n",
       "      <td>139.751599</td>\n",
       "    </tr>\n",
       "    <tr>\n",
       "      <th>1</th>\n",
       "      <td>air_ba937bf13d40fb24</td>\n",
       "      <td>0</td>\n",
       "      <td>2016-01-14</td>\n",
       "      <td>32.0</td>\n",
       "      <td>Thursday</td>\n",
       "      <td>0</td>\n",
       "      <td>Dining bar</td>\n",
       "      <td>Tōkyō-to Minato-ku Shibakōen</td>\n",
       "      <td>35.658068</td>\n",
       "      <td>139.751599</td>\n",
       "    </tr>\n",
       "    <tr>\n",
       "      <th>2</th>\n",
       "      <td>air_ba937bf13d40fb24</td>\n",
       "      <td>0</td>\n",
       "      <td>2016-01-15</td>\n",
       "      <td>29.0</td>\n",
       "      <td>Friday</td>\n",
       "      <td>0</td>\n",
       "      <td>Dining bar</td>\n",
       "      <td>Tōkyō-to Minato-ku Shibakōen</td>\n",
       "      <td>35.658068</td>\n",
       "      <td>139.751599</td>\n",
       "    </tr>\n",
       "    <tr>\n",
       "      <th>3</th>\n",
       "      <td>air_ba937bf13d40fb24</td>\n",
       "      <td>0</td>\n",
       "      <td>2016-01-16</td>\n",
       "      <td>22.0</td>\n",
       "      <td>Saturday</td>\n",
       "      <td>0</td>\n",
       "      <td>Dining bar</td>\n",
       "      <td>Tōkyō-to Minato-ku Shibakōen</td>\n",
       "      <td>35.658068</td>\n",
       "      <td>139.751599</td>\n",
       "    </tr>\n",
       "    <tr>\n",
       "      <th>4</th>\n",
       "      <td>air_ba937bf13d40fb24</td>\n",
       "      <td>0</td>\n",
       "      <td>2016-01-18</td>\n",
       "      <td>6.0</td>\n",
       "      <td>Monday</td>\n",
       "      <td>0</td>\n",
       "      <td>Dining bar</td>\n",
       "      <td>Tōkyō-to Minato-ku Shibakōen</td>\n",
       "      <td>35.658068</td>\n",
       "      <td>139.751599</td>\n",
       "    </tr>\n",
       "  </tbody>\n",
       "</table>\n",
       "</div>"
      ],
      "text/plain": [
       "           air_store_id  is_for_submission  visit_date  visitors day_of_week  \\\n",
       "0  air_ba937bf13d40fb24                  0  2016-01-13      25.0   Wednesday   \n",
       "1  air_ba937bf13d40fb24                  0  2016-01-14      32.0    Thursday   \n",
       "2  air_ba937bf13d40fb24                  0  2016-01-15      29.0      Friday   \n",
       "3  air_ba937bf13d40fb24                  0  2016-01-16      22.0    Saturday   \n",
       "4  air_ba937bf13d40fb24                  0  2016-01-18       6.0      Monday   \n",
       "\n",
       "   holiday_flg air_genre_name                 air_area_name   latitude  \\\n",
       "0            0     Dining bar  Tōkyō-to Minato-ku Shibakōen  35.658068   \n",
       "1            0     Dining bar  Tōkyō-to Minato-ku Shibakōen  35.658068   \n",
       "2            0     Dining bar  Tōkyō-to Minato-ku Shibakōen  35.658068   \n",
       "3            0     Dining bar  Tōkyō-to Minato-ku Shibakōen  35.658068   \n",
       "4            0     Dining bar  Tōkyō-to Minato-ku Shibakōen  35.658068   \n",
       "\n",
       "    longitude  \n",
       "0  139.751599  \n",
       "1  139.751599  \n",
       "2  139.751599  \n",
       "3  139.751599  \n",
       "4  139.751599  "
      ]
     },
     "execution_count": 30,
     "metadata": {},
     "output_type": "execute_result"
    }
   ],
   "source": [
    "# add store info and date info into the data\n",
    "\n",
    "# rename calendar date to visit date\n",
    "date_info.rename(columns={'calendar_date': 'visit_date'}, inplace=True)\n",
    "\n",
    "# join 2 tables\n",
    "full_data = pd.merge(left=full_data, right=date_info, on='visit_date', how='left')\n",
    "full_data = pd.merge(left=full_data, right=air_store_info, on='air_store_id', how='left')\n",
    "\n",
    "full_data.head()"
   ]
  },
  {
   "cell_type": "code",
   "execution_count": 31,
   "metadata": {},
   "outputs": [],
   "source": [
    "# get the month number, is_weekend\n",
    "full_data['month_number'] = pd.to_datetime(full_data.visit_date).dt.month\n",
    "full_data['is_weekend'] = full_data['day_of_week'].isin(['Saturday','Sunday']).astype(int)"
   ]
  },
  {
   "cell_type": "code",
   "execution_count": 32,
   "metadata": {
    "scrolled": true
   },
   "outputs": [],
   "source": [
    "# add min, max, mean, median and count observation by store id and day of week\n",
    "mv = full_data.groupby(['air_store_id','day_of_week'], as_index=False)['visitors'].min().rename(columns={'visitors':'min_visitors'})\n",
    "full_data = pd.merge(full_data, mv, how='left', on=['air_store_id','day_of_week']) \n",
    "mv = full_data.groupby(['air_store_id','day_of_week'], as_index=False)['visitors'].max().rename(columns={'visitors':'max_visitors'})\n",
    "full_data = pd.merge(full_data, mv, how='left', on=['air_store_id','day_of_week'])\n",
    "mv = full_data.groupby(['air_store_id','day_of_week'], as_index=False)['visitors'].mean().rename(columns={'visitors':'mean_visitors'})\n",
    "full_data = pd.merge(full_data, mv, how='left', on=['air_store_id','day_of_week']) \n",
    "mv = full_data.groupby(['air_store_id','day_of_week'], as_index=False)['visitors'].median().rename(columns={'visitors':'median_visitors'})\n",
    "full_data = pd.merge(full_data, mv, how='left', on=['air_store_id','day_of_week']) \n",
    "mv = full_data.groupby(['air_store_id','day_of_week'], as_index=False)['visitors'].count().rename(columns={'visitors':'count_observations'})\n",
    "full_data = pd.merge(full_data, mv, how='left', on=['air_store_id','day_of_week']) \n"
   ]
  },
  {
   "cell_type": "code",
   "execution_count": 33,
   "metadata": {},
   "outputs": [],
   "source": [
    "# replace null values\n",
    "full_data['min_visitors'] = full_data['min_visitors'].fillna(0)\n",
    "full_data['max_visitors'] = full_data['max_visitors'].fillna(0)\n",
    "full_data['mean_visitors'] = full_data['mean_visitors'].fillna(0)\n",
    "full_data['median_visitors'] = full_data['median_visitors'].fillna(0)\n",
    "full_data['count_observations'] = full_data['count_observations'].fillna(0)"
   ]
  },
  {
   "cell_type": "code",
   "execution_count": 34,
   "metadata": {
    "scrolled": true
   },
   "outputs": [
    {
     "data": {
      "text/html": [
       "<div>\n",
       "<style scoped>\n",
       "    .dataframe tbody tr th:only-of-type {\n",
       "        vertical-align: middle;\n",
       "    }\n",
       "\n",
       "    .dataframe tbody tr th {\n",
       "        vertical-align: top;\n",
       "    }\n",
       "\n",
       "    .dataframe thead th {\n",
       "        text-align: right;\n",
       "    }\n",
       "</style>\n",
       "<table border=\"1\" class=\"dataframe\">\n",
       "  <thead>\n",
       "    <tr style=\"text-align: right;\">\n",
       "      <th></th>\n",
       "      <th>air_store_id</th>\n",
       "      <th>is_for_submission</th>\n",
       "      <th>visit_date</th>\n",
       "      <th>visitors</th>\n",
       "      <th>day_of_week</th>\n",
       "      <th>holiday_flg</th>\n",
       "      <th>air_genre_name</th>\n",
       "      <th>air_area_name</th>\n",
       "      <th>latitude</th>\n",
       "      <th>longitude</th>\n",
       "      <th>month_number</th>\n",
       "      <th>is_weekend</th>\n",
       "      <th>min_visitors</th>\n",
       "      <th>max_visitors</th>\n",
       "      <th>mean_visitors</th>\n",
       "      <th>median_visitors</th>\n",
       "      <th>count_observations</th>\n",
       "    </tr>\n",
       "  </thead>\n",
       "  <tbody>\n",
       "    <tr>\n",
       "      <th>0</th>\n",
       "      <td>air_ba937bf13d40fb24</td>\n",
       "      <td>0</td>\n",
       "      <td>2016-01-13</td>\n",
       "      <td>25.0</td>\n",
       "      <td>Wednesday</td>\n",
       "      <td>0</td>\n",
       "      <td>Dining bar</td>\n",
       "      <td>Tōkyō-to Minato-ku Shibakōen</td>\n",
       "      <td>35.658068</td>\n",
       "      <td>139.751599</td>\n",
       "      <td>1</td>\n",
       "      <td>0</td>\n",
       "      <td>7.0</td>\n",
       "      <td>57.0</td>\n",
       "      <td>23.843750</td>\n",
       "      <td>25.0</td>\n",
       "      <td>64</td>\n",
       "    </tr>\n",
       "    <tr>\n",
       "      <th>1</th>\n",
       "      <td>air_ba937bf13d40fb24</td>\n",
       "      <td>0</td>\n",
       "      <td>2016-01-14</td>\n",
       "      <td>32.0</td>\n",
       "      <td>Thursday</td>\n",
       "      <td>0</td>\n",
       "      <td>Dining bar</td>\n",
       "      <td>Tōkyō-to Minato-ku Shibakōen</td>\n",
       "      <td>35.658068</td>\n",
       "      <td>139.751599</td>\n",
       "      <td>1</td>\n",
       "      <td>0</td>\n",
       "      <td>2.0</td>\n",
       "      <td>54.0</td>\n",
       "      <td>20.292308</td>\n",
       "      <td>21.0</td>\n",
       "      <td>65</td>\n",
       "    </tr>\n",
       "    <tr>\n",
       "      <th>2</th>\n",
       "      <td>air_ba937bf13d40fb24</td>\n",
       "      <td>0</td>\n",
       "      <td>2016-01-15</td>\n",
       "      <td>29.0</td>\n",
       "      <td>Friday</td>\n",
       "      <td>0</td>\n",
       "      <td>Dining bar</td>\n",
       "      <td>Tōkyō-to Minato-ku Shibakōen</td>\n",
       "      <td>35.658068</td>\n",
       "      <td>139.751599</td>\n",
       "      <td>1</td>\n",
       "      <td>0</td>\n",
       "      <td>4.0</td>\n",
       "      <td>61.0</td>\n",
       "      <td>34.738462</td>\n",
       "      <td>35.0</td>\n",
       "      <td>65</td>\n",
       "    </tr>\n",
       "    <tr>\n",
       "      <th>3</th>\n",
       "      <td>air_ba937bf13d40fb24</td>\n",
       "      <td>0</td>\n",
       "      <td>2016-01-16</td>\n",
       "      <td>22.0</td>\n",
       "      <td>Saturday</td>\n",
       "      <td>0</td>\n",
       "      <td>Dining bar</td>\n",
       "      <td>Tōkyō-to Minato-ku Shibakōen</td>\n",
       "      <td>35.658068</td>\n",
       "      <td>139.751599</td>\n",
       "      <td>1</td>\n",
       "      <td>1</td>\n",
       "      <td>6.0</td>\n",
       "      <td>53.0</td>\n",
       "      <td>27.651515</td>\n",
       "      <td>27.0</td>\n",
       "      <td>66</td>\n",
       "    </tr>\n",
       "    <tr>\n",
       "      <th>4</th>\n",
       "      <td>air_ba937bf13d40fb24</td>\n",
       "      <td>0</td>\n",
       "      <td>2016-01-18</td>\n",
       "      <td>6.0</td>\n",
       "      <td>Monday</td>\n",
       "      <td>0</td>\n",
       "      <td>Dining bar</td>\n",
       "      <td>Tōkyō-to Minato-ku Shibakōen</td>\n",
       "      <td>35.658068</td>\n",
       "      <td>139.751599</td>\n",
       "      <td>1</td>\n",
       "      <td>0</td>\n",
       "      <td>2.0</td>\n",
       "      <td>34.0</td>\n",
       "      <td>13.754386</td>\n",
       "      <td>12.0</td>\n",
       "      <td>57</td>\n",
       "    </tr>\n",
       "  </tbody>\n",
       "</table>\n",
       "</div>"
      ],
      "text/plain": [
       "           air_store_id  is_for_submission  visit_date  visitors day_of_week  \\\n",
       "0  air_ba937bf13d40fb24                  0  2016-01-13      25.0   Wednesday   \n",
       "1  air_ba937bf13d40fb24                  0  2016-01-14      32.0    Thursday   \n",
       "2  air_ba937bf13d40fb24                  0  2016-01-15      29.0      Friday   \n",
       "3  air_ba937bf13d40fb24                  0  2016-01-16      22.0    Saturday   \n",
       "4  air_ba937bf13d40fb24                  0  2016-01-18       6.0      Monday   \n",
       "\n",
       "   holiday_flg air_genre_name                 air_area_name   latitude  \\\n",
       "0            0     Dining bar  Tōkyō-to Minato-ku Shibakōen  35.658068   \n",
       "1            0     Dining bar  Tōkyō-to Minato-ku Shibakōen  35.658068   \n",
       "2            0     Dining bar  Tōkyō-to Minato-ku Shibakōen  35.658068   \n",
       "3            0     Dining bar  Tōkyō-to Minato-ku Shibakōen  35.658068   \n",
       "4            0     Dining bar  Tōkyō-to Minato-ku Shibakōen  35.658068   \n",
       "\n",
       "    longitude  month_number  is_weekend  min_visitors  max_visitors  \\\n",
       "0  139.751599             1           0           7.0          57.0   \n",
       "1  139.751599             1           0           2.0          54.0   \n",
       "2  139.751599             1           0           4.0          61.0   \n",
       "3  139.751599             1           1           6.0          53.0   \n",
       "4  139.751599             1           0           2.0          34.0   \n",
       "\n",
       "   mean_visitors  median_visitors  count_observations  \n",
       "0      23.843750             25.0                  64  \n",
       "1      20.292308             21.0                  65  \n",
       "2      34.738462             35.0                  65  \n",
       "3      27.651515             27.0                  66  \n",
       "4      13.754386             12.0                  57  "
      ]
     },
     "execution_count": 34,
     "metadata": {},
     "output_type": "execute_result"
    }
   ],
   "source": [
    "full_data.head()"
   ]
  },
  {
   "cell_type": "code",
   "execution_count": 35,
   "metadata": {},
   "outputs": [
    {
     "data": {
      "text/plain": [
       "<matplotlib.axes._subplots.AxesSubplot at 0x211e018df28>"
      ]
     },
     "execution_count": 35,
     "metadata": {},
     "output_type": "execute_result"
    },
    {
     "data": {
      "image/png": "[encoded data removed]",
      "text/plain": [
       "<Figure size 1080x360 with 1 Axes>"
      ]
     },
     "metadata": {
      "needs_background": "light"
     },
     "output_type": "display_data"
    }
   ],
   "source": [
    "# use heatmap to check if there's any null values apart from visitors, where in submission record, is null value\n",
    "# * yellow indicate null\n",
    "plt.figure(figsize=(15,5))\n",
    "sns.heatmap(full_data.isnull(),yticklabels=False, cbar=False, cmap ='viridis')"
   ]
  },
  {
   "cell_type": "markdown",
   "metadata": {},
   "source": [
    "# Transform Data"
   ]
  },
  {
   "cell_type": "code",
   "execution_count": 37,
   "metadata": {},
   "outputs": [],
   "source": [
    "# label encoder\n",
    "lbl = preprocessing.LabelEncoder()"
   ]
  },
  {
   "cell_type": "code",
   "execution_count": 38,
   "metadata": {},
   "outputs": [],
   "source": [
    "# transform string categorical columns into numeric categorical columns\n",
    "full_data['day_of_week'] = lbl.fit_transform(full_data['day_of_week'])\n",
    "full_data['air_genre_name'] = lbl.fit_transform(full_data['air_genre_name'])\n",
    "full_data['air_area_name'] = lbl.fit_transform(full_data['air_area_name'])"
   ]
  },
  {
   "cell_type": "code",
   "execution_count": 39,
   "metadata": {},
   "outputs": [],
   "source": [
    "# split into train data, test data, and data to submit\n",
    "submit_data = full_data[full_data['is_for_submission']==1]\n",
    "train_test_data = full_data[full_data['is_for_submission']==0]"
   ]
  },
  {
   "cell_type": "code",
   "execution_count": 40,
   "metadata": {},
   "outputs": [],
   "source": [
    "# drop unwanted columns\n",
    "columns_to_drop = ['air_store_id', 'is_for_submission','visit_date','latitude','longitude']\n",
    "\n",
    "# drop the columns\n",
    "submit_data = submit_data.drop(columns_to_drop, axis=1)\n",
    "train_test_data = train_test_data.drop(columns_to_drop, axis=1)"
   ]
  },
  {
   "cell_type": "code",
   "execution_count": 41,
   "metadata": {},
   "outputs": [
    {
     "data": {
      "text/html": [
       "<div>\n",
       "<style scoped>\n",
       "    .dataframe tbody tr th:only-of-type {\n",
       "        vertical-align: middle;\n",
       "    }\n",
       "\n",
       "    .dataframe tbody tr th {\n",
       "        vertical-align: top;\n",
       "    }\n",
       "\n",
       "    .dataframe thead th {\n",
       "        text-align: right;\n",
       "    }\n",
       "</style>\n",
       "<table border=\"1\" class=\"dataframe\">\n",
       "  <thead>\n",
       "    <tr style=\"text-align: right;\">\n",
       "      <th></th>\n",
       "      <th>visitors</th>\n",
       "      <th>day_of_week</th>\n",
       "      <th>holiday_flg</th>\n",
       "      <th>air_genre_name</th>\n",
       "      <th>air_area_name</th>\n",
       "      <th>month_number</th>\n",
       "      <th>is_weekend</th>\n",
       "      <th>min_visitors</th>\n",
       "      <th>max_visitors</th>\n",
       "      <th>mean_visitors</th>\n",
       "      <th>median_visitors</th>\n",
       "      <th>count_observations</th>\n",
       "    </tr>\n",
       "  </thead>\n",
       "  <tbody>\n",
       "    <tr>\n",
       "      <th>0</th>\n",
       "      <td>25.0</td>\n",
       "      <td>6</td>\n",
       "      <td>0</td>\n",
       "      <td>4</td>\n",
       "      <td>62</td>\n",
       "      <td>1</td>\n",
       "      <td>0</td>\n",
       "      <td>7.0</td>\n",
       "      <td>57.0</td>\n",
       "      <td>23.843750</td>\n",
       "      <td>25.0</td>\n",
       "      <td>64</td>\n",
       "    </tr>\n",
       "    <tr>\n",
       "      <th>1</th>\n",
       "      <td>32.0</td>\n",
       "      <td>4</td>\n",
       "      <td>0</td>\n",
       "      <td>4</td>\n",
       "      <td>62</td>\n",
       "      <td>1</td>\n",
       "      <td>0</td>\n",
       "      <td>2.0</td>\n",
       "      <td>54.0</td>\n",
       "      <td>20.292308</td>\n",
       "      <td>21.0</td>\n",
       "      <td>65</td>\n",
       "    </tr>\n",
       "    <tr>\n",
       "      <th>2</th>\n",
       "      <td>29.0</td>\n",
       "      <td>0</td>\n",
       "      <td>0</td>\n",
       "      <td>4</td>\n",
       "      <td>62</td>\n",
       "      <td>1</td>\n",
       "      <td>0</td>\n",
       "      <td>4.0</td>\n",
       "      <td>61.0</td>\n",
       "      <td>34.738462</td>\n",
       "      <td>35.0</td>\n",
       "      <td>65</td>\n",
       "    </tr>\n",
       "    <tr>\n",
       "      <th>3</th>\n",
       "      <td>22.0</td>\n",
       "      <td>2</td>\n",
       "      <td>0</td>\n",
       "      <td>4</td>\n",
       "      <td>62</td>\n",
       "      <td>1</td>\n",
       "      <td>1</td>\n",
       "      <td>6.0</td>\n",
       "      <td>53.0</td>\n",
       "      <td>27.651515</td>\n",
       "      <td>27.0</td>\n",
       "      <td>66</td>\n",
       "    </tr>\n",
       "    <tr>\n",
       "      <th>4</th>\n",
       "      <td>6.0</td>\n",
       "      <td>1</td>\n",
       "      <td>0</td>\n",
       "      <td>4</td>\n",
       "      <td>62</td>\n",
       "      <td>1</td>\n",
       "      <td>0</td>\n",
       "      <td>2.0</td>\n",
       "      <td>34.0</td>\n",
       "      <td>13.754386</td>\n",
       "      <td>12.0</td>\n",
       "      <td>57</td>\n",
       "    </tr>\n",
       "  </tbody>\n",
       "</table>\n",
       "</div>"
      ],
      "text/plain": [
       "   visitors  day_of_week  holiday_flg  air_genre_name  air_area_name  \\\n",
       "0      25.0            6            0               4             62   \n",
       "1      32.0            4            0               4             62   \n",
       "2      29.0            0            0               4             62   \n",
       "3      22.0            2            0               4             62   \n",
       "4       6.0            1            0               4             62   \n",
       "\n",
       "   month_number  is_weekend  min_visitors  max_visitors  mean_visitors  \\\n",
       "0             1           0           7.0          57.0      23.843750   \n",
       "1             1           0           2.0          54.0      20.292308   \n",
       "2             1           0           4.0          61.0      34.738462   \n",
       "3             1           1           6.0          53.0      27.651515   \n",
       "4             1           0           2.0          34.0      13.754386   \n",
       "\n",
       "   median_visitors  count_observations  \n",
       "0             25.0                  64  \n",
       "1             21.0                  65  \n",
       "2             35.0                  65  \n",
       "3             27.0                  66  \n",
       "4             12.0                  57  "
      ]
     },
     "execution_count": 41,
     "metadata": {},
     "output_type": "execute_result"
    }
   ],
   "source": [
    "train_test_data.head()"
   ]
  },
  {
   "cell_type": "code",
   "execution_count": 42,
   "metadata": {},
   "outputs": [],
   "source": [
    "# get X (features) and y (to predict) from train test data\n",
    "X = train_test_data.drop('visitors', axis=1)\n",
    "y = train_test_data['visitors']"
   ]
  },
  {
   "cell_type": "code",
   "execution_count": 43,
   "metadata": {},
   "outputs": [],
   "source": [
    "# train test split the data\n",
    "X_train, X_test, y_train, y_test = train_test_split(X,y, test_size=0.2)\n",
    "\n",
    "# submit data for testing\n",
    "X_submit_test = submit_data.drop('visitors', axis=1)"
   ]
  },
  {
   "cell_type": "code",
   "execution_count": 44,
   "metadata": {},
   "outputs": [
    {
     "data": {
      "text/plain": [
       "(201686, 11)"
      ]
     },
     "execution_count": 44,
     "metadata": {},
     "output_type": "execute_result"
    }
   ],
   "source": [
    "# training size\n",
    "X_train.shape"
   ]
  },
  {
   "cell_type": "code",
   "execution_count": 45,
   "metadata": {},
   "outputs": [
    {
     "data": {
      "text/plain": [
       "(50422, 11)"
      ]
     },
     "execution_count": 45,
     "metadata": {},
     "output_type": "execute_result"
    }
   ],
   "source": [
    "# test size\n",
    "X_test.shape"
   ]
  },
  {
   "cell_type": "markdown",
   "metadata": {},
   "source": [
    "# Model to predict\n"
   ]
  },
  {
   "cell_type": "markdown",
   "metadata": {},
   "source": [
    "### Random Forest "
   ]
  },
  {
   "cell_type": "code",
   "execution_count": 46,
   "metadata": {},
   "outputs": [],
   "source": [
    "# function to calculate RMSLE (Root Mean Square Logarithmic Error)\n",
    "def RMSLE(y_actual, y_pred) : \n",
    "    assert len(y_actual) == len(y_pred)\n",
    "    return np.sqrt(np.mean((np.log(1+y_pred) - np.log(1+y_actual))**2))"
   ]
  },
  {
   "cell_type": "code",
   "execution_count": 47,
   "metadata": {},
   "outputs": [],
   "source": [
    "# random forest regressor\n",
    "rfc = RandomForestRegressor(n_estimators=100)"
   ]
  },
  {
   "cell_type": "code",
   "execution_count": 57,
   "metadata": {},
   "outputs": [
    {
     "name": "stdout",
     "output_type": "stream",
     "text": [
      "RMSLE for Random Forest:  0.5685812350477276\n"
     ]
    }
   ],
   "source": [
    "# train the data with Random Forest\n",
    "rfc.fit(X_train, y_train)\n",
    "\n",
    "# predict the test data with the model\n",
    "prediction = rfc.predict(X_test)\n",
    "\n",
    "# calculate the RMSLE\n",
    "rmsle_score = RMSLE(y_test.values, prediction)\n",
    "print('RMSLE for Random Forest: ', rmsle_score)"
   ]
  },
  {
   "cell_type": "code",
   "execution_count": 58,
   "metadata": {},
   "outputs": [
    {
     "data": {
      "text/plain": [
       "<matplotlib.legend.Legend at 0x211907c8b70>"
      ]
     },
     "execution_count": 58,
     "metadata": {},
     "output_type": "execute_result"
    },
    {
     "data": {
      "image/png": "[encoded data removed]",
      "text/plain": [
       "<Figure size 1080x360 with 1 Axes>"
      ]
     },
     "metadata": {
      "needs_background": "light"
     },
     "output_type": "display_data"
    }
   ],
   "source": [
    "# predict vs actual\n",
    "# store into dataframe\n",
    "actual_df = y_test.to_frame().reset_index()\n",
    "actual_df['index'] = actual_df.index\n",
    "predict_df = pd.DataFrame(prediction).reset_index()\n",
    "\n",
    "# top n to display on the plot\n",
    "n_resu = 100\n",
    "\n",
    "# plot the first n results\n",
    "plt.figure(figsize=(15,5))\n",
    "plt.plot(actual_df['index'].head(n_resu), actual_df['visitors'].head(n_resu), label='actual')\n",
    "plt.plot(predict_df['index'].head(n_resu), predict_df[0].head(n_resu), label='predict')\n",
    "plt.ylabel('Number of Visitors')\n",
    "plt.xlabel('period')\n",
    "plt.title('Random Forest: Actual vs Predict')\n",
    "plt.legend(loc='best')"
   ]
  },
  {
   "cell_type": "markdown",
   "metadata": {},
   "source": [
    "# Important Features "
   ]
  },
  {
   "cell_type": "code",
   "execution_count": 59,
   "metadata": {},
   "outputs": [
    {
     "data": {
      "text/html": [
       "<div>\n",
       "<style scoped>\n",
       "    .dataframe tbody tr th:only-of-type {\n",
       "        vertical-align: middle;\n",
       "    }\n",
       "\n",
       "    .dataframe tbody tr th {\n",
       "        vertical-align: top;\n",
       "    }\n",
       "\n",
       "    .dataframe thead th {\n",
       "        text-align: right;\n",
       "    }\n",
       "</style>\n",
       "<table border=\"1\" class=\"dataframe\">\n",
       "  <thead>\n",
       "    <tr style=\"text-align: right;\">\n",
       "      <th></th>\n",
       "      <th>features</th>\n",
       "      <th>proportion</th>\n",
       "    </tr>\n",
       "  </thead>\n",
       "  <tbody>\n",
       "    <tr>\n",
       "      <th>0</th>\n",
       "      <td>day_of_week</td>\n",
       "      <td>0.013365</td>\n",
       "    </tr>\n",
       "    <tr>\n",
       "      <th>1</th>\n",
       "      <td>holiday_flg</td>\n",
       "      <td>0.010325</td>\n",
       "    </tr>\n",
       "    <tr>\n",
       "      <th>2</th>\n",
       "      <td>air_genre_name</td>\n",
       "      <td>0.016293</td>\n",
       "    </tr>\n",
       "    <tr>\n",
       "      <th>3</th>\n",
       "      <td>air_area_name</td>\n",
       "      <td>0.024528</td>\n",
       "    </tr>\n",
       "    <tr>\n",
       "      <th>4</th>\n",
       "      <td>month_number</td>\n",
       "      <td>0.098169</td>\n",
       "    </tr>\n",
       "    <tr>\n",
       "      <th>5</th>\n",
       "      <td>is_weekend</td>\n",
       "      <td>0.004719</td>\n",
       "    </tr>\n",
       "    <tr>\n",
       "      <th>6</th>\n",
       "      <td>min_visitors</td>\n",
       "      <td>0.019475</td>\n",
       "    </tr>\n",
       "    <tr>\n",
       "      <th>7</th>\n",
       "      <td>max_visitors</td>\n",
       "      <td>0.035863</td>\n",
       "    </tr>\n",
       "    <tr>\n",
       "      <th>8</th>\n",
       "      <td>mean_visitors</td>\n",
       "      <td>0.726023</td>\n",
       "    </tr>\n",
       "    <tr>\n",
       "      <th>9</th>\n",
       "      <td>median_visitors</td>\n",
       "      <td>0.027838</td>\n",
       "    </tr>\n",
       "    <tr>\n",
       "      <th>10</th>\n",
       "      <td>count_observations</td>\n",
       "      <td>0.023401</td>\n",
       "    </tr>\n",
       "  </tbody>\n",
       "</table>\n",
       "</div>"
      ],
      "text/plain": [
       "              features  proportion\n",
       "0          day_of_week    0.013365\n",
       "1          holiday_flg    0.010325\n",
       "2       air_genre_name    0.016293\n",
       "3        air_area_name    0.024528\n",
       "4         month_number    0.098169\n",
       "5           is_weekend    0.004719\n",
       "6         min_visitors    0.019475\n",
       "7         max_visitors    0.035863\n",
       "8        mean_visitors    0.726023\n",
       "9      median_visitors    0.027838\n",
       "10  count_observations    0.023401"
      ]
     },
     "execution_count": 59,
     "metadata": {},
     "output_type": "execute_result"
    }
   ],
   "source": [
    "# show the important features\n",
    "\n",
    "# convert proportions into dataframe\n",
    "important_feat_resu = pd.DataFrame(rfc.feature_importances_).reset_index()\n",
    "\n",
    "# create important features dataframe\n",
    "important_feat = pd.DataFrame(list(X))\n",
    "important_feat['proportion'] = important_feat_resu[0]\n",
    "\n",
    "# rename features\n",
    "important_feat.rename(columns={0: 'features'}, inplace=True)\n",
    "\n",
    "\n",
    "important_feat"
   ]
  },
  {
   "cell_type": "code",
   "execution_count": 60,
   "metadata": {
    "scrolled": true
   },
   "outputs": [
    {
     "data": {
      "text/plain": [
       "Text(0.5, 1.0, 'Important Features')"
      ]
     },
     "execution_count": 60,
     "metadata": {},
     "output_type": "execute_result"
    },
    {
     "data": {
      "image/png": "[encoded data removed]",
      "text/plain": [
       "<Figure size 1080x360 with 1 Axes>"
      ]
     },
     "metadata": {
      "needs_background": "light"
     },
     "output_type": "display_data"
    }
   ],
   "source": [
    "# sort the proportion by descending\n",
    "important_feat = important_feat.sort_values(by='proportion', ascending=False)\n",
    "\n",
    "plt.figure(figsize=(15,5))\n",
    "plt.barh(important_feat['features'],important_feat['proportion'])\n",
    "plt.gca().invert_yaxis()\n",
    "plt.xlabel('Proportion')\n",
    "plt.ylabel('Features')\n",
    "plt.title('Important Features')\n"
   ]
  },
  {
   "cell_type": "markdown",
   "metadata": {},
   "source": [
    "# Test with the submission data "
   ]
  },
  {
   "cell_type": "code",
   "execution_count": 61,
   "metadata": {},
   "outputs": [],
   "source": [
    "# test with the submission data\n",
    "submit_prediction = rfc.predict(X_submit_test)"
   ]
  },
  {
   "cell_type": "code",
   "execution_count": 62,
   "metadata": {},
   "outputs": [],
   "source": [
    "# convert submit prediction to dataframe\n",
    "submit_pred_df = pd.DataFrame(submit_prediction).reset_index()\n",
    "\n",
    "# add results the submission sample file\n",
    "sub = pd.DataFrame()\n",
    "sub['id'] = submission['id']\n",
    "sub['visitors'] = submit_pred_df[0]"
   ]
  },
  {
   "cell_type": "code",
   "execution_count": 63,
   "metadata": {},
   "outputs": [],
   "source": [
    "# save results into csv file\n",
    "sub.to_csv(SUB_FOLDER_NAME + 'rf_rmsle_{:.5f}_v2.csv'.format(rmsle_score), index=False)"
   ]
  },
  {
   "cell_type": "code",
   "execution_count": null,
   "metadata": {},
   "outputs": [],
   "source": []
  }
 ],
 "metadata": {
  "kernelspec": {
   "display_name": "Python 3",
   "language": "python",
   "name": "python3"
  },
  "language_info": {
   "codemirror_mode": {
    "name": "ipython",
    "version": 3
   },
   "file_extension": ".py",
   "mimetype": "text/x-python",
   "name": "python",
   "nbconvert_exporter": "python",
   "pygments_lexer": "ipython3",
   "version": "3.5.4"
  }
 },
 "nbformat": 4,
 "nbformat_minor": 2
}
