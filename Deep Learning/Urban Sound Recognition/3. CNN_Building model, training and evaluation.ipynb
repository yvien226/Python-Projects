{
 "cells": [
  {
   "cell_type": "code",
   "execution_count": 16,
   "metadata": {},
   "outputs": [],
   "source": [
    "# import library\n",
    "import librosa\n",
    "import numpy as np\n",
    "import pandas as pd\n",
    "import itertools\n",
    "import matplotlib.pyplot as plt\n",
    "import os\n",
    "from datetime import datetime \n",
    "from keras.models import Sequential\n",
    "from keras.layers import Dense, Dropout, Activation, Flatten\n",
    "from keras.layers import Convolution2D, Conv2D, MaxPooling2D, GlobalAveragePooling2D\n",
    "from keras.optimizers import Adam\n",
    "from keras.utils import np_utils\n",
    "from keras.callbacks import ModelCheckpoint \n",
    "from keras.utils import to_categorical\n",
    "from sklearn import metrics\n",
    "from sklearn.preprocessing import LabelEncoder\n",
    "from sklearn.model_selection import train_test_split"
   ]
  },
  {
   "cell_type": "markdown",
   "metadata": {},
   "source": [
    "# Inputs"
   ]
  },
  {
   "cell_type": "code",
   "execution_count": 1,
   "metadata": {},
   "outputs": [],
   "source": [
    "# TRAINED MODEL\n",
    "# model folder\n",
    "MODEL_FP = 'models/'\n",
    "\n",
    "# FULL DATA\n",
    "AUDIO_FP = '../UrbanSound8K/audio/'\n",
    "DATA_FFP = '../UrbanSound8K/metadata/UrbanSound8K.csv'\n",
    "\n",
    "# SAMPLE DATA\n",
    "# audio file path\n",
    "SAMPLE_AUDIO_FP = 'audio_sample/'\n",
    "\n",
    "# sample audio spreadsheet name\n",
    "SAMPLE_AUDIO_FN = 'list_of_sample_audio.xlsx'"
   ]
  },
  {
   "cell_type": "markdown",
   "metadata": {},
   "source": [
    "# Load stored preprocessed data "
   ]
  },
  {
   "cell_type": "code",
   "execution_count": 3,
   "metadata": {},
   "outputs": [],
   "source": [
    "%store -r x_train \n",
    "%store -r x_test \n",
    "%store -r y_train \n",
    "%store -r y_test \n",
    "%store -r y2\n",
    "%store -r LabelEncoder"
   ]
  },
  {
   "cell_type": "markdown",
   "metadata": {},
   "source": [
    "# Functions\n",
    "customized functions\n",
    "\n",
    "CNN require fixed size for all inputs. To overcome this, zero pad the output vectors to make them all the same size"
   ]
  },
  {
   "cell_type": "code",
   "execution_count": 10,
   "metadata": {},
   "outputs": [],
   "source": [
    "# function used to extract feature from sample audio\n",
    "max_pad_len = 174\n",
    "\n",
    "def extract_features(file_name):\n",
    "   \n",
    "    try:\n",
    "        audio, sample_rate = librosa.load(file_name, res_type='kaiser_fast') \n",
    "        mfccs = librosa.feature.mfcc(y=audio, sr=sample_rate, n_mfcc=40)\n",
    "        pad_width = max_pad_len - mfccs.shape[1]\n",
    "        mfccs = np.pad(mfccs, pad_width=((0, 0), (0, pad_width)), mode='constant')\n",
    "        \n",
    "    except Exception as e:\n",
    "        print(\"Error encountered while parsing file: \", file_name)\n",
    "        return None \n",
    "     \n",
    "    return mfccs"
   ]
  },
  {
   "cell_type": "code",
   "execution_count": 11,
   "metadata": {},
   "outputs": [],
   "source": [
    "# function to plot confusion matrix\n",
    "# code source: https://deeplizard.com/learn/video/km7pxKy4UHU\n",
    "def plot_confusion_matrix(cm, classes,\n",
    "                        normalize=False,\n",
    "                        title='Confusion matrix',\n",
    "                        cmap=plt.cm.Blues):\n",
    "    \"\"\"\n",
    "    This function prints and plots the confusion matrix.\n",
    "    Normalization can be applied by setting `normalize=True`.\n",
    "    \"\"\"\n",
    "    plt.imshow(cm, interpolation='nearest', cmap=cmap)\n",
    "    plt.title(title)\n",
    "    plt.colorbar()\n",
    "    tick_marks = np.arange(len(classes))\n",
    "    plt.xticks(tick_marks, classes, rotation=45)\n",
    "    plt.yticks(tick_marks, classes)\n",
    "\n",
    "    if normalize:\n",
    "        cm = cm.astype('float') / cm.sum(axis=1)[:, np.newaxis]\n",
    "        print(\"Normalized confusion matrix\")\n",
    "    else:\n",
    "        print('Confusion matrix, without normalization')\n",
    "\n",
    "    print(cm)\n",
    "\n",
    "    thresh = cm.max() / 2.\n",
    "    for i, j in itertools.product(range(cm.shape[0]), range(cm.shape[1])):\n",
    "        plt.text(j, i, cm[i, j],\n",
    "            horizontalalignment=\"center\",\n",
    "            color=\"white\" if cm[i, j] > thresh else \"black\")\n",
    "\n",
    "    plt.tight_layout()\n",
    "    plt.ylabel('True label')\n",
    "    plt.xlabel('Predicted label')"
   ]
  },
  {
   "cell_type": "markdown",
   "metadata": {},
   "source": [
    "# Data preprocessing"
   ]
  },
  {
   "cell_type": "markdown",
   "metadata": {},
   "source": [
    "### Data conversion and extract MFCCS from each audio "
   ]
  },
  {
   "cell_type": "code",
   "execution_count": 12,
   "metadata": {},
   "outputs": [],
   "source": [
    "# read data\n",
    "audio_data = pd.read_csv(DATA_FFP)"
   ]
  },
  {
   "cell_type": "code",
   "execution_count": 13,
   "metadata": {},
   "outputs": [],
   "source": [
    "data = []\n",
    "\n",
    "for index, row in audio_data.iterrows():\n",
    "    # audio full file name\n",
    "    audio_ffn = os.path.join(os.path.abspath(AUDIO_FP),'fold'+str(row[\"fold\"])+'/',str(row[\"slice_file_name\"]))\n",
    "    \n",
    "    # class name, audio, sample rate, mfccs\n",
    "    class_name = row['class']\n",
    "    mfccs_data = extract_features(audio_ffn)\n",
    "    \n",
    "    # append\n",
    "    data.append([mfccs_data, class_name])\n",
    "    \n",
    "# convert into dataframe\n",
    "df_audio = pd.DataFrame(data, columns=['feature', 'class_name'])"
   ]
  },
  {
   "cell_type": "markdown",
   "metadata": {},
   "source": [
    "### Convert data and labels using LabelEncoder\n",
    "Convert categorical data into numerical"
   ]
  },
  {
   "cell_type": "code",
   "execution_count": 17,
   "metadata": {},
   "outputs": [],
   "source": [
    "# Convert features and classes into arrays\n",
    "X = np.array(df_audio.feature.tolist())\n",
    "y = np.array(df_audio.class_name.tolist())\n",
    "\n",
    "# Encode the class\n",
    "LabelEncoder = LabelEncoder()\n",
    "y2 = to_categorical(LabelEncoder.fit_transform(y)) "
   ]
  },
  {
   "cell_type": "markdown",
   "metadata": {},
   "source": [
    "### Split into train test\n",
    "Split data set into train/test set 80:20"
   ]
  },
  {
   "cell_type": "code",
   "execution_count": 18,
   "metadata": {},
   "outputs": [],
   "source": [
    "x_train, x_test, y_train, y_test = train_test_split(X, y2, \n",
    "                                                    test_size=0.2, \n",
    "                                                    random_state = 40)"
   ]
  },
  {
   "cell_type": "code",
   "execution_count": 19,
   "metadata": {},
   "outputs": [
    {
     "data": {
      "text/plain": [
       "(6985, 40, 174)"
      ]
     },
     "execution_count": 19,
     "metadata": {},
     "output_type": "execute_result"
    }
   ],
   "source": [
    "x_train.shape"
   ]
  },
  {
   "cell_type": "code",
   "execution_count": 20,
   "metadata": {},
   "outputs": [
    {
     "data": {
      "text/plain": [
       "(6985, 10)"
      ]
     },
     "execution_count": 20,
     "metadata": {},
     "output_type": "execute_result"
    }
   ],
   "source": [
    "y_train.shape"
   ]
  },
  {
   "cell_type": "code",
   "execution_count": 21,
   "metadata": {},
   "outputs": [
    {
     "data": {
      "text/plain": [
       "(1747, 40, 174)"
      ]
     },
     "execution_count": 21,
     "metadata": {},
     "output_type": "execute_result"
    }
   ],
   "source": [
    "x_test.shape"
   ]
  },
  {
   "cell_type": "code",
   "execution_count": 22,
   "metadata": {},
   "outputs": [
    {
     "data": {
      "text/plain": [
       "(1747, 10)"
      ]
     },
     "execution_count": 22,
     "metadata": {},
     "output_type": "execute_result"
    }
   ],
   "source": [
    "y_test.shape"
   ]
  },
  {
   "cell_type": "markdown",
   "metadata": {},
   "source": [
    "# Model architecture: Convolutional Neural Network (CNN)\n",
    "Construct a Convolutional Neural Network using Keras and Tensorflow"
   ]
  },
  {
   "cell_type": "code",
   "execution_count": 24,
   "metadata": {},
   "outputs": [],
   "source": [
    "# Construct model and build layer by layer\n",
    "model = Sequential()"
   ]
  },
  {
   "cell_type": "markdown",
   "metadata": {},
   "source": [
    "Begin with simple model architecture, which consists of 3 layers:\n",
    "- Input layer\n",
    "- Convolutional layer (4x)\n",
    "- Output layer\n",
    "\n",
    "**Descriptions:**\n",
    "1. The convolution layers are designed for feature detection. It works by sliding a filter window over the input and performing a matrix multiplication and storing the result in a feature map. This operation is known as a convolution. \n",
    "2. Parameter:\n",
    "    - filter = the number of nodes in each layer.\n",
    "    - kernel size = the size of the kernel window, 2 resulting in 2x2 filter matrix \n",
    "    \n",
    "    \n",
    "**Architecture structure:**\n",
    "1. **First layer:**: \n",
    "    - receive input shape. Each audio contains 40 MFCCs (columns), 174 frames taking padding into account and 1 channel (mono).\n",
    "    - dropout 20%. Dropout will randomly exclude nodes from each update cycle which resulting in a network have better generalisation and less likely to overfit the training data.\n",
    "    - Activation function: relu (Rectified Linear Activation), proven to have work well in NN.\n",
    "4. **Convolutional layer:** \n",
    "    - 4 convolutional layer\n",
    "    - Each convolutional layer has an associated pooling layer (MaxPooling2D)\n",
    "    - Final convolutional layer is Globel average pooling (GlobalAveragePooling2D).\n",
    "    - The pooling layer is to reduce the dimensionality of the model which serves to shorten the training time and reduce overfitting.\n",
    "    - The max pooling type takes the max size for each window.\n",
    "    - The Global average pooling type takes the average, this is suitable to feed into the dense output layer.\n",
    "3. **Output layer:**\n",
    "    - \"dense\" layer type which is the standard layer type in NN.\n",
    "    - 10 nodes (total classes).\n",
    "    - Activation: softmax. This makes the output sum up to 1 so the output can be innterpreted as probabilities. The model will make its prediction  based on which option has the highest probability."
   ]
  },
  {
   "cell_type": "code",
   "execution_count": 23,
   "metadata": {},
   "outputs": [],
   "source": [
    "# total number of class\n",
    "tot_class = y2.shape[1]\n",
    "\n",
    "# total rows\n",
    "tot_rows = x_train.shape[1]\n",
    "\n",
    "# total columns\n",
    "tot_columns = x_train.shape[2]\n",
    "\n",
    "# total channels\n",
    "tot_channels = 1"
   ]
  },
  {
   "cell_type": "code",
   "execution_count": 25,
   "metadata": {},
   "outputs": [
    {
     "data": {
      "text/plain": [
       "174"
      ]
     },
     "execution_count": 25,
     "metadata": {},
     "output_type": "execute_result"
    }
   ],
   "source": [
    "tot_columns"
   ]
  },
  {
   "cell_type": "code",
   "execution_count": 39,
   "metadata": {},
   "outputs": [],
   "source": [
    "# model architecture\n",
    "x_train = x_train.reshape(x_train.shape[0], tot_rows, tot_columns, tot_channels)\n",
    "x_test = x_test.reshape(x_test.shape[0], tot_rows, tot_columns, tot_channels)\n",
    "\n",
    "filter_size = 2\n",
    "\n",
    "# Construct model \n",
    "model = Sequential()\n",
    "model.add(Conv2D(filters=16, kernel_size=2, input_shape=(tot_rows, tot_columns, tot_channels), activation='relu'))\n",
    "model.add(MaxPooling2D(pool_size=2))\n",
    "model.add(Dropout(0.2))\n",
    "\n",
    "model.add(Conv2D(filters=32, kernel_size=2, activation='relu'))\n",
    "model.add(MaxPooling2D(pool_size=2))\n",
    "model.add(Dropout(0.2))\n",
    "\n",
    "model.add(Conv2D(filters=64, kernel_size=2, activation='relu'))\n",
    "model.add(MaxPooling2D(pool_size=2))\n",
    "model.add(Dropout(0.2))\n",
    "\n",
    "model.add(Conv2D(filters=128, kernel_size=2, activation='relu'))\n",
    "model.add(MaxPooling2D(pool_size=2))\n",
    "model.add(Dropout(0.2))\n",
    "model.add(GlobalAveragePooling2D())\n",
    "\n",
    "model.add(Dense(tot_class, activation='softmax')) "
   ]
  },
  {
   "cell_type": "markdown",
   "metadata": {},
   "source": [
    "# Compile the model\n",
    "Use the following 3 parameters to compile the model:\n",
    "- Loss function: \"Categorical crossentropy\". Most common choice for classification. Low score = model is performing better.\n",
    "- Metrics: \"accuracy\". Allow to view accuracy score to validate the data.\n",
    "- Optimizer: \"adam\", common and generally good optimizer."
   ]
  },
  {
   "cell_type": "code",
   "execution_count": 40,
   "metadata": {},
   "outputs": [],
   "source": [
    "# Compile the model\n",
    "model.compile(loss='categorical_crossentropy', \n",
    "              metrics=['accuracy'], \n",
    "              optimizer='adam') "
   ]
  },
  {
   "cell_type": "code",
   "execution_count": 41,
   "metadata": {},
   "outputs": [
    {
     "name": "stdout",
     "output_type": "stream",
     "text": [
      "Model: \"sequential_4\"\n",
      "_________________________________________________________________\n",
      "Layer (type)                 Output Shape              Param #   \n",
      "=================================================================\n",
      "conv2d_5 (Conv2D)            (None, 39, 173, 16)       80        \n",
      "_________________________________________________________________\n",
      "max_pooling2d_5 (MaxPooling2 (None, 19, 86, 16)        0         \n",
      "_________________________________________________________________\n",
      "dropout_5 (Dropout)          (None, 19, 86, 16)        0         \n",
      "_________________________________________________________________\n",
      "conv2d_6 (Conv2D)            (None, 18, 85, 32)        2080      \n",
      "_________________________________________________________________\n",
      "max_pooling2d_6 (MaxPooling2 (None, 9, 42, 32)         0         \n",
      "_________________________________________________________________\n",
      "dropout_6 (Dropout)          (None, 9, 42, 32)         0         \n",
      "_________________________________________________________________\n",
      "conv2d_7 (Conv2D)            (None, 8, 41, 64)         8256      \n",
      "_________________________________________________________________\n",
      "max_pooling2d_7 (MaxPooling2 (None, 4, 20, 64)         0         \n",
      "_________________________________________________________________\n",
      "dropout_7 (Dropout)          (None, 4, 20, 64)         0         \n",
      "_________________________________________________________________\n",
      "conv2d_8 (Conv2D)            (None, 3, 19, 128)        32896     \n",
      "_________________________________________________________________\n",
      "max_pooling2d_8 (MaxPooling2 (None, 1, 9, 128)         0         \n",
      "_________________________________________________________________\n",
      "dropout_8 (Dropout)          (None, 1, 9, 128)         0         \n",
      "_________________________________________________________________\n",
      "global_average_pooling2d_2 ( (None, 128)               0         \n",
      "_________________________________________________________________\n",
      "dense_2 (Dense)              (None, 10)                1290      \n",
      "=================================================================\n",
      "Total params: 44,602\n",
      "Trainable params: 44,602\n",
      "Non-trainable params: 0\n",
      "_________________________________________________________________\n"
     ]
    }
   ],
   "source": [
    "# Display the model architecture\n",
    "model.summary()"
   ]
  },
  {
   "cell_type": "code",
   "execution_count": 42,
   "metadata": {},
   "outputs": [
    {
     "name": "stdout",
     "output_type": "stream",
     "text": [
      "Pre-training accuracy: 8.0710%\n"
     ]
    }
   ],
   "source": [
    "# show pre-training accuracy\n",
    "score = model.evaluate(x_test, y_test, verbose=0)\n",
    "accuracy = 100 * score[1]\n",
    "print(\"Pre-training accuracy: %.4f%%\" % accuracy)"
   ]
  },
  {
   "cell_type": "markdown",
   "metadata": {},
   "source": [
    "# Train the model\n",
    "Train the model.\n",
    "\n",
    "- epoch (number of times the model will cycle through the data).\n",
    "- batch size. Large batch size can reduce the generalisation ability of the model\n",
    "- start with low epoch and batch size. If the model is converging based on the output, increase both numbers\n",
    "- When the model “converges” there is usually no significant error decrease / performance increase anymore."
   ]
  },
  {
   "cell_type": "code",
   "execution_count": 44,
   "metadata": {},
   "outputs": [
    {
     "name": "stdout",
     "output_type": "stream",
     "text": [
      "Train on 6985 samples, validate on 1747 samples\n",
      "Epoch 1/72\n",
      "6985/6985 [==============================] - 12s 2ms/step - loss: 0.6638 - accuracy: 0.7794 - val_loss: 0.7987 - val_accuracy: 0.7350\n",
      "\n",
      "Epoch 00001: val_loss improved from inf to 0.79869, saving model to models/cnn_basic_model.hdf5\n",
      "Epoch 2/72\n",
      "6985/6985 [==============================] - 12s 2ms/step - loss: 0.6358 - accuracy: 0.7854 - val_loss: 0.8397 - val_accuracy: 0.7218\n",
      "\n",
      "Epoch 00002: val_loss did not improve from 0.79869\n",
      "Epoch 3/72\n",
      "6985/6985 [==============================] - 12s 2ms/step - loss: 0.6377 - accuracy: 0.7880 - val_loss: 0.7863 - val_accuracy: 0.7361\n",
      "\n",
      "Epoch 00003: val_loss improved from 0.79869 to 0.78631, saving model to models/cnn_basic_model.hdf5\n",
      "Epoch 4/72\n",
      "6985/6985 [==============================] - 12s 2ms/step - loss: 0.6198 - accuracy: 0.7924 - val_loss: 0.7432 - val_accuracy: 0.7630\n",
      "\n",
      "Epoch 00004: val_loss improved from 0.78631 to 0.74317, saving model to models/cnn_basic_model.hdf5\n",
      "Epoch 5/72\n",
      "6985/6985 [==============================] - 12s 2ms/step - loss: 0.6121 - accuracy: 0.7950 - val_loss: 0.7333 - val_accuracy: 0.7596\n",
      "\n",
      "Epoch 00005: val_loss improved from 0.74317 to 0.73329, saving model to models/cnn_basic_model.hdf5\n",
      "Epoch 6/72\n",
      "6985/6985 [==============================] - 13s 2ms/step - loss: 0.5834 - accuracy: 0.8070 - val_loss: 0.7272 - val_accuracy: 0.7602\n",
      "\n",
      "Epoch 00006: val_loss improved from 0.73329 to 0.72723, saving model to models/cnn_basic_model.hdf5\n",
      "Epoch 7/72\n",
      "6985/6985 [==============================] - 13s 2ms/step - loss: 0.5742 - accuracy: 0.8079 - val_loss: 0.7040 - val_accuracy: 0.7762\n",
      "\n",
      "Epoch 00007: val_loss improved from 0.72723 to 0.70403, saving model to models/cnn_basic_model.hdf5\n",
      "Epoch 8/72\n",
      "6985/6985 [==============================] - 12s 2ms/step - loss: 0.5494 - accuracy: 0.8142 - val_loss: 0.7527 - val_accuracy: 0.7544\n",
      "\n",
      "Epoch 00008: val_loss did not improve from 0.70403\n",
      "Epoch 9/72\n",
      "6985/6985 [==============================] - 12s 2ms/step - loss: 0.5534 - accuracy: 0.8130 - val_loss: 0.7092 - val_accuracy: 0.7728\n",
      "\n",
      "Epoch 00009: val_loss did not improve from 0.70403\n",
      "Epoch 10/72\n",
      "6985/6985 [==============================] - 12s 2ms/step - loss: 0.5335 - accuracy: 0.8251 - val_loss: 0.6750 - val_accuracy: 0.7790\n",
      "\n",
      "Epoch 00010: val_loss improved from 0.70403 to 0.67502, saving model to models/cnn_basic_model.hdf5\n",
      "Epoch 11/72\n",
      "6985/6985 [==============================] - 12s 2ms/step - loss: 0.5193 - accuracy: 0.8265 - val_loss: 0.6784 - val_accuracy: 0.7842\n",
      "\n",
      "Epoch 00011: val_loss did not improve from 0.67502\n",
      "Epoch 12/72\n",
      "6985/6985 [==============================] - 12s 2ms/step - loss: 0.5051 - accuracy: 0.8326 - val_loss: 0.6589 - val_accuracy: 0.7911\n",
      "\n",
      "Epoch 00012: val_loss improved from 0.67502 to 0.65894, saving model to models/cnn_basic_model.hdf5\n",
      "Epoch 13/72\n",
      "6985/6985 [==============================] - 12s 2ms/step - loss: 0.4929 - accuracy: 0.8401 - val_loss: 0.6363 - val_accuracy: 0.7939\n",
      "\n",
      "Epoch 00013: val_loss improved from 0.65894 to 0.63630, saving model to models/cnn_basic_model.hdf5\n",
      "Epoch 14/72\n",
      "6985/6985 [==============================] - 12s 2ms/step - loss: 0.4841 - accuracy: 0.8378 - val_loss: 0.6210 - val_accuracy: 0.8019\n",
      "\n",
      "Epoch 00014: val_loss improved from 0.63630 to 0.62097, saving model to models/cnn_basic_model.hdf5\n",
      "Epoch 15/72\n",
      "6985/6985 [==============================] - 12s 2ms/step - loss: 0.4811 - accuracy: 0.8395 - val_loss: 0.6630 - val_accuracy: 0.7802\n",
      "\n",
      "Epoch 00015: val_loss did not improve from 0.62097\n",
      "Epoch 16/72\n",
      "6985/6985 [==============================] - 13s 2ms/step - loss: 0.4849 - accuracy: 0.8361 - val_loss: 0.6144 - val_accuracy: 0.7974\n",
      "\n",
      "Epoch 00016: val_loss improved from 0.62097 to 0.61442, saving model to models/cnn_basic_model.hdf5\n",
      "Epoch 17/72\n",
      "6985/6985 [==============================] - 12s 2ms/step - loss: 0.4761 - accuracy: 0.8407 - val_loss: 0.5881 - val_accuracy: 0.8185\n",
      "\n",
      "Epoch 00017: val_loss improved from 0.61442 to 0.58807, saving model to models/cnn_basic_model.hdf5\n",
      "Epoch 18/72\n",
      "6985/6985 [==============================] - 13s 2ms/step - loss: 0.4368 - accuracy: 0.8558 - val_loss: 0.5437 - val_accuracy: 0.8243\n",
      "\n",
      "Epoch 00018: val_loss improved from 0.58807 to 0.54369, saving model to models/cnn_basic_model.hdf5\n",
      "Epoch 19/72\n",
      "6985/6985 [==============================] - 13s 2ms/step - loss: 0.4415 - accuracy: 0.8517 - val_loss: 0.5695 - val_accuracy: 0.8266\n",
      "\n",
      "Epoch 00019: val_loss did not improve from 0.54369\n",
      "Epoch 20/72\n",
      "6985/6985 [==============================] - 13s 2ms/step - loss: 0.4350 - accuracy: 0.8533 - val_loss: 0.5804 - val_accuracy: 0.8111\n",
      "\n",
      "Epoch 00020: val_loss did not improve from 0.54369\n",
      "Epoch 21/72\n",
      "6985/6985 [==============================] - 13s 2ms/step - loss: 0.4266 - accuracy: 0.8547 - val_loss: 0.5479 - val_accuracy: 0.8260\n",
      "\n",
      "Epoch 00021: val_loss did not improve from 0.54369\n",
      "Epoch 22/72\n",
      "6985/6985 [==============================] - 12s 2ms/step - loss: 0.4142 - accuracy: 0.8591 - val_loss: 0.5322 - val_accuracy: 0.8277\n",
      "\n",
      "Epoch 00022: val_loss improved from 0.54369 to 0.53224, saving model to models/cnn_basic_model.hdf5\n",
      "Epoch 23/72\n",
      "6985/6985 [==============================] - 12s 2ms/step - loss: 0.4177 - accuracy: 0.8628 - val_loss: 0.5688 - val_accuracy: 0.8197\n",
      "\n",
      "Epoch 00023: val_loss did not improve from 0.53224\n",
      "Epoch 24/72\n",
      "6985/6985 [==============================] - 12s 2ms/step - loss: 0.3954 - accuracy: 0.8650 - val_loss: 0.5403 - val_accuracy: 0.8334\n",
      "\n",
      "Epoch 00024: val_loss did not improve from 0.53224\n",
      "Epoch 25/72\n",
      "6985/6985 [==============================] - 12s 2ms/step - loss: 0.3996 - accuracy: 0.8667 - val_loss: 0.5336 - val_accuracy: 0.8306\n",
      "\n",
      "Epoch 00025: val_loss did not improve from 0.53224\n",
      "Epoch 26/72\n",
      "6985/6985 [==============================] - 12s 2ms/step - loss: 0.3812 - accuracy: 0.8707 - val_loss: 0.4852 - val_accuracy: 0.8523\n",
      "\n",
      "Epoch 00026: val_loss improved from 0.53224 to 0.48522, saving model to models/cnn_basic_model.hdf5\n",
      "Epoch 27/72\n",
      "6985/6985 [==============================] - 12s 2ms/step - loss: 0.3695 - accuracy: 0.8720 - val_loss: 0.4867 - val_accuracy: 0.8529\n",
      "\n",
      "Epoch 00027: val_loss did not improve from 0.48522\n",
      "Epoch 28/72\n",
      "6985/6985 [==============================] - 12s 2ms/step - loss: 0.3682 - accuracy: 0.8780 - val_loss: 0.4672 - val_accuracy: 0.8546\n",
      "\n",
      "Epoch 00028: val_loss improved from 0.48522 to 0.46722, saving model to models/cnn_basic_model.hdf5\n",
      "Epoch 29/72\n",
      "6985/6985 [==============================] - 12s 2ms/step - loss: 0.3490 - accuracy: 0.8863 - val_loss: 0.4923 - val_accuracy: 0.8466\n",
      "\n",
      "Epoch 00029: val_loss did not improve from 0.46722\n",
      "Epoch 30/72\n",
      "6985/6985 [==============================] - 12s 2ms/step - loss: 0.3518 - accuracy: 0.8839 - val_loss: 0.4358 - val_accuracy: 0.8706\n",
      "\n",
      "Epoch 00030: val_loss improved from 0.46722 to 0.43581, saving model to models/cnn_basic_model.hdf5\n",
      "Epoch 31/72\n",
      "6985/6985 [==============================] - 12s 2ms/step - loss: 0.3631 - accuracy: 0.8739 - val_loss: 0.4811 - val_accuracy: 0.8477\n",
      "\n",
      "Epoch 00031: val_loss did not improve from 0.43581\n",
      "Epoch 32/72\n",
      "6985/6985 [==============================] - 12s 2ms/step - loss: 0.3550 - accuracy: 0.8830 - val_loss: 0.4783 - val_accuracy: 0.8443\n",
      "\n",
      "Epoch 00032: val_loss did not improve from 0.43581\n",
      "Epoch 33/72\n",
      "6985/6985 [==============================] - 12s 2ms/step - loss: 0.3405 - accuracy: 0.8836 - val_loss: 0.4848 - val_accuracy: 0.8426\n",
      "\n",
      "Epoch 00033: val_loss did not improve from 0.43581\n",
      "Epoch 34/72\n",
      "6985/6985 [==============================] - 12s 2ms/step - loss: 0.3499 - accuracy: 0.8782 - val_loss: 0.4298 - val_accuracy: 0.8672\n",
      "\n",
      "Epoch 00034: val_loss improved from 0.43581 to 0.42977, saving model to models/cnn_basic_model.hdf5\n",
      "Epoch 35/72\n",
      "6985/6985 [==============================] - 12s 2ms/step - loss: 0.3346 - accuracy: 0.8839 - val_loss: 0.4052 - val_accuracy: 0.8746\n",
      "\n",
      "Epoch 00035: val_loss improved from 0.42977 to 0.40520, saving model to models/cnn_basic_model.hdf5\n",
      "Epoch 36/72\n",
      "6985/6985 [==============================] - 12s 2ms/step - loss: 0.3160 - accuracy: 0.8879 - val_loss: 0.4220 - val_accuracy: 0.8724\n",
      "\n",
      "Epoch 00036: val_loss did not improve from 0.40520\n",
      "Epoch 37/72\n",
      "6985/6985 [==============================] - 12s 2ms/step - loss: 0.3285 - accuracy: 0.8862 - val_loss: 0.4293 - val_accuracy: 0.8701\n",
      "\n",
      "Epoch 00037: val_loss did not improve from 0.40520\n",
      "Epoch 38/72\n",
      "6985/6985 [==============================] - 14s 2ms/step - loss: 0.3154 - accuracy: 0.8941 - val_loss: 0.4343 - val_accuracy: 0.8655\n",
      "\n",
      "Epoch 00038: val_loss did not improve from 0.40520\n",
      "Epoch 39/72\n",
      "6985/6985 [==============================] - 13s 2ms/step - loss: 0.3019 - accuracy: 0.8966 - val_loss: 0.4535 - val_accuracy: 0.8661\n",
      "\n",
      "Epoch 00039: val_loss did not improve from 0.40520\n",
      "Epoch 40/72\n",
      "6985/6985 [==============================] - 13s 2ms/step - loss: 0.2948 - accuracy: 0.8988 - val_loss: 0.4126 - val_accuracy: 0.8758\n",
      "\n",
      "Epoch 00040: val_loss did not improve from 0.40520\n",
      "Epoch 41/72\n",
      "6985/6985 [==============================] - 14s 2ms/step - loss: 0.2851 - accuracy: 0.9019 - val_loss: 0.4019 - val_accuracy: 0.8781\n",
      "\n",
      "Epoch 00041: val_loss improved from 0.40520 to 0.40194, saving model to models/cnn_basic_model.hdf5\n",
      "Epoch 42/72\n",
      "6985/6985 [==============================] - 14s 2ms/step - loss: 0.2910 - accuracy: 0.8966 - val_loss: 0.3792 - val_accuracy: 0.8798\n",
      "\n",
      "Epoch 00042: val_loss improved from 0.40194 to 0.37917, saving model to models/cnn_basic_model.hdf5\n",
      "Epoch 43/72\n",
      "6985/6985 [==============================] - 15s 2ms/step - loss: 0.3114 - accuracy: 0.8925 - val_loss: 0.3803 - val_accuracy: 0.8815\n",
      "\n",
      "Epoch 00043: val_loss did not improve from 0.37917\n",
      "Epoch 44/72\n",
      "6985/6985 [==============================] - 15s 2ms/step - loss: 0.2922 - accuracy: 0.9039 - val_loss: 0.3901 - val_accuracy: 0.8849\n",
      "\n",
      "Epoch 00044: val_loss did not improve from 0.37917\n",
      "Epoch 45/72\n",
      "6985/6985 [==============================] - 14s 2ms/step - loss: 0.2774 - accuracy: 0.9042 - val_loss: 0.3629 - val_accuracy: 0.8958\n",
      "\n",
      "Epoch 00045: val_loss improved from 0.37917 to 0.36289, saving model to models/cnn_basic_model.hdf5\n",
      "Epoch 46/72\n",
      "6985/6985 [==============================] - 14s 2ms/step - loss: 0.2716 - accuracy: 0.9101 - val_loss: 0.3496 - val_accuracy: 0.8970\n",
      "\n",
      "Epoch 00046: val_loss improved from 0.36289 to 0.34962, saving model to models/cnn_basic_model.hdf5\n",
      "Epoch 47/72\n",
      "6985/6985 [==============================] - 13s 2ms/step - loss: 0.2764 - accuracy: 0.9078 - val_loss: 0.3695 - val_accuracy: 0.8918\n",
      "\n",
      "Epoch 00047: val_loss did not improve from 0.34962\n",
      "Epoch 48/72\n",
      "6985/6985 [==============================] - 13s 2ms/step - loss: 0.2540 - accuracy: 0.9122 - val_loss: 0.3749 - val_accuracy: 0.8895\n",
      "\n",
      "Epoch 00048: val_loss did not improve from 0.34962\n",
      "Epoch 49/72\n",
      "6985/6985 [==============================] - 13s 2ms/step - loss: 0.2522 - accuracy: 0.9127 - val_loss: 0.3492 - val_accuracy: 0.8993\n",
      "\n",
      "Epoch 00049: val_loss improved from 0.34962 to 0.34922, saving model to models/cnn_basic_model.hdf5\n",
      "Epoch 50/72\n",
      "6985/6985 [==============================] - 13s 2ms/step - loss: 0.2699 - accuracy: 0.9067 - val_loss: 0.3966 - val_accuracy: 0.8775\n",
      "\n",
      "Epoch 00050: val_loss did not improve from 0.34922\n",
      "Epoch 51/72\n",
      "6985/6985 [==============================] - 12s 2ms/step - loss: 0.2590 - accuracy: 0.9102 - val_loss: 0.3443 - val_accuracy: 0.8958\n",
      "\n",
      "Epoch 00051: val_loss improved from 0.34922 to 0.34429, saving model to models/cnn_basic_model.hdf5\n",
      "Epoch 52/72\n",
      "6985/6985 [==============================] - 12s 2ms/step - loss: 0.2531 - accuracy: 0.9141 - val_loss: 0.3444 - val_accuracy: 0.8958\n",
      "\n",
      "Epoch 00052: val_loss did not improve from 0.34429\n",
      "Epoch 53/72\n",
      "6985/6985 [==============================] - 17s 2ms/step - loss: 0.2522 - accuracy: 0.9164 - val_loss: 0.3736 - val_accuracy: 0.8821\n",
      "\n",
      "Epoch 00053: val_loss did not improve from 0.34429\n",
      "Epoch 54/72\n",
      "6985/6985 [==============================] - 23s 3ms/step - loss: 0.2465 - accuracy: 0.9171 - val_loss: 0.3234 - val_accuracy: 0.9073\n",
      "\n",
      "Epoch 00054: val_loss improved from 0.34429 to 0.32335, saving model to models/cnn_basic_model.hdf5\n",
      "Epoch 55/72\n",
      "6985/6985 [==============================] - 23s 3ms/step - loss: 0.2450 - accuracy: 0.9157 - val_loss: 0.3244 - val_accuracy: 0.9044\n",
      "\n",
      "Epoch 00055: val_loss did not improve from 0.32335\n",
      "Epoch 56/72\n",
      "6985/6985 [==============================] - 22s 3ms/step - loss: 0.2319 - accuracy: 0.9204 - val_loss: 0.3337 - val_accuracy: 0.8998\n",
      "\n",
      "Epoch 00056: val_loss did not improve from 0.32335\n",
      "Epoch 57/72\n",
      "6985/6985 [==============================] - 22s 3ms/step - loss: 0.2337 - accuracy: 0.9205 - val_loss: 0.3460 - val_accuracy: 0.8987\n",
      "\n",
      "Epoch 00057: val_loss did not improve from 0.32335\n",
      "Epoch 58/72\n",
      "6985/6985 [==============================] - 22s 3ms/step - loss: 0.2255 - accuracy: 0.9230 - val_loss: 0.3388 - val_accuracy: 0.9033\n",
      "\n",
      "Epoch 00058: val_loss did not improve from 0.32335\n",
      "Epoch 59/72\n",
      "6985/6985 [==============================] - 21s 3ms/step - loss: 0.2497 - accuracy: 0.9138 - val_loss: 0.3557 - val_accuracy: 0.8878\n",
      "\n",
      "Epoch 00059: val_loss did not improve from 0.32335\n",
      "Epoch 60/72\n",
      "6985/6985 [==============================] - 22s 3ms/step - loss: 0.2314 - accuracy: 0.9233 - val_loss: 0.3574 - val_accuracy: 0.8890\n",
      "\n",
      "Epoch 00060: val_loss did not improve from 0.32335\n",
      "Epoch 61/72\n",
      "6985/6985 [==============================] - 23s 3ms/step - loss: 0.2349 - accuracy: 0.9181 - val_loss: 0.3384 - val_accuracy: 0.9067\n",
      "\n",
      "Epoch 00061: val_loss did not improve from 0.32335\n",
      "Epoch 62/72\n",
      "6985/6985 [==============================] - 23s 3ms/step - loss: 0.2344 - accuracy: 0.9147 - val_loss: 0.3273 - val_accuracy: 0.9038\n",
      "\n",
      "Epoch 00062: val_loss did not improve from 0.32335\n",
      "Epoch 63/72\n",
      "6985/6985 [==============================] - 23s 3ms/step - loss: 0.2213 - accuracy: 0.9237 - val_loss: 0.3234 - val_accuracy: 0.9027\n",
      "\n",
      "Epoch 00063: val_loss did not improve from 0.32335\n",
      "Epoch 64/72\n",
      "6985/6985 [==============================] - 23s 3ms/step - loss: 0.2027 - accuracy: 0.9291 - val_loss: 0.3273 - val_accuracy: 0.9050\n",
      "\n",
      "Epoch 00064: val_loss did not improve from 0.32335\n",
      "Epoch 65/72\n",
      "6985/6985 [==============================] - 23s 3ms/step - loss: 0.2109 - accuracy: 0.9274 - val_loss: 0.3261 - val_accuracy: 0.9038\n",
      "\n",
      "Epoch 00065: val_loss did not improve from 0.32335\n",
      "Epoch 66/72\n",
      "6985/6985 [==============================] - 24s 3ms/step - loss: 0.2094 - accuracy: 0.9300 - val_loss: 0.3211 - val_accuracy: 0.9067\n",
      "\n",
      "Epoch 00066: val_loss improved from 0.32335 to 0.32111, saving model to models/cnn_basic_model.hdf5\n",
      "Epoch 67/72\n",
      "6985/6985 [==============================] - 23s 3ms/step - loss: 0.2160 - accuracy: 0.9290 - val_loss: 0.3073 - val_accuracy: 0.9090\n",
      "\n",
      "Epoch 00067: val_loss improved from 0.32111 to 0.30726, saving model to models/cnn_basic_model.hdf5\n",
      "Epoch 68/72\n",
      "6985/6985 [==============================] - 23s 3ms/step - loss: 0.1897 - accuracy: 0.9372 - val_loss: 0.2918 - val_accuracy: 0.9101\n",
      "\n",
      "Epoch 00068: val_loss improved from 0.30726 to 0.29184, saving model to models/cnn_basic_model.hdf5\n",
      "Epoch 69/72\n",
      "6985/6985 [==============================] - 24s 3ms/step - loss: 0.1916 - accuracy: 0.9361 - val_loss: 0.2999 - val_accuracy: 0.9164\n",
      "\n",
      "Epoch 00069: val_loss did not improve from 0.29184\n",
      "Epoch 70/72\n",
      "6985/6985 [==============================] - 23s 3ms/step - loss: 0.2028 - accuracy: 0.9283 - val_loss: 0.3061 - val_accuracy: 0.9061\n",
      "\n",
      "Epoch 00070: val_loss did not improve from 0.29184\n",
      "Epoch 71/72\n",
      "6985/6985 [==============================] - 23s 3ms/step - loss: 0.1939 - accuracy: 0.9354 - val_loss: 0.2947 - val_accuracy: 0.9141\n",
      "\n",
      "Epoch 00071: val_loss did not improve from 0.29184\n",
      "Epoch 72/72\n",
      "6985/6985 [==============================] - 23s 3ms/step - loss: 0.1874 - accuracy: 0.9353 - val_loss: 0.3016 - val_accuracy: 0.9096\n",
      "\n",
      "Epoch 00072: val_loss did not improve from 0.29184\n",
      "Training completed in time:  0:18:26.155716\n"
     ]
    }
   ],
   "source": [
    "# inputs\n",
    "NUM_EPOCH = 72\n",
    "NUM_BATCH = 256\n",
    "\n",
    "# model name\n",
    "MODEL_NAME = 'cnn_basic_model.hdf5'\n",
    "\n",
    "checkpointer = ModelCheckpoint(filepath= MODEL_FP + MODEL_NAME, \n",
    "                               verbose=1, save_best_only=True)\n",
    "\n",
    "# begin training\n",
    "starttime = datetime.now()\n",
    "\n",
    "# train the model\n",
    "model.fit(x_train, \n",
    "          y_train, \n",
    "          batch_size=NUM_BATCH, \n",
    "          epochs=NUM_EPOCH, \n",
    "          validation_data=(x_test, y_test), \n",
    "          callbacks=[checkpointer], verbose=1)\n",
    "\n",
    "duration = datetime.now() - starttime\n",
    "print(\"Training completed in time: \", duration)"
   ]
  },
  {
   "cell_type": "markdown",
   "metadata": {},
   "source": [
    "# Test the model"
   ]
  },
  {
   "cell_type": "code",
   "execution_count": 45,
   "metadata": {},
   "outputs": [
    {
     "name": "stdout",
     "output_type": "stream",
     "text": [
      "Trained model on testing sets accuracy: 90.9559%\n"
     ]
    }
   ],
   "source": [
    "# test with testing data\n",
    "score = model.evaluate(x_test, y_test, verbose=0)\n",
    "accuracy = 100 * score[1]\n",
    "print(\"Trained model on testing sets accuracy: %.4f%%\" % accuracy)"
   ]
  },
  {
   "cell_type": "code",
   "execution_count": 46,
   "metadata": {},
   "outputs": [
    {
     "name": "stdout",
     "output_type": "stream",
     "text": [
      "Trained model on training sets accuracy: 95.7910%\n"
     ]
    }
   ],
   "source": [
    "# test with training data\n",
    "score = model.evaluate(x_train, y_train, verbose=0)\n",
    "accuracy = 100 * score[1]\n",
    "print(\"Trained model on training sets accuracy: %.4f%%\" % accuracy)"
   ]
  },
  {
   "cell_type": "markdown",
   "metadata": {},
   "source": [
    "[Observations]\n",
    "- Pre-training model accuracy is 8%.\n",
    "- Trained model accuracy is 91%.\n",
    "- Training sets accuracy is > testing sets accuracy, this indicate that the model has not suffered from overfitting"
   ]
  },
  {
   "cell_type": "markdown",
   "metadata": {},
   "source": [
    "### Confusion Matrix and Classification Report"
   ]
  },
  {
   "cell_type": "code",
   "execution_count": 47,
   "metadata": {},
   "outputs": [],
   "source": [
    "# predict the test data using the model\n",
    "predictions = model.predict(x_test)"
   ]
  },
  {
   "cell_type": "code",
   "execution_count": 48,
   "metadata": {},
   "outputs": [],
   "source": [
    "# convert array into vector (classes in number)\n",
    "\n",
    "# get the selected classses in testing data set\n",
    "val_test = np.zeros((y_test.shape[0],1))\n",
    "for i in range(val_test.shape[0]):\n",
    "\n",
    "    # for CATEGORICAL: pick the highest confidence value\n",
    "    val_test[i] = np.argmax(y_test[i])\n",
    "\n",
    "# get the predicted classes\n",
    "val_preds = np.zeros((predictions.shape[0],1))\n",
    "for i in range(predictions.shape[0]):\n",
    "\n",
    "    # for CATEGORICAL: pick the highest confidence value\n",
    "    val_preds[i] = np.argmax(predictions[i])\n",
    "    "
   ]
  },
  {
   "cell_type": "code",
   "execution_count": 49,
   "metadata": {},
   "outputs": [
    {
     "data": {
      "text/plain": [
       "array([[9.],\n",
       "       [8.],\n",
       "       [8.],\n",
       "       ...,\n",
       "       [4.],\n",
       "       [7.],\n",
       "       [3.]])"
      ]
     },
     "execution_count": 49,
     "metadata": {},
     "output_type": "execute_result"
    }
   ],
   "source": [
    "# snippet of predicted class\n",
    "val_preds"
   ]
  },
  {
   "cell_type": "code",
   "execution_count": 50,
   "metadata": {},
   "outputs": [],
   "source": [
    "# define classes\n",
    "# 0 = air_conditioner\n",
    "# 1 = car_horn\n",
    "# 2 = children_playing\n",
    "# 3 = dog_bark\n",
    "# 4 = drilling\n",
    "# 5 = engine_idling\n",
    "# 6 = gun_shot\n",
    "# 7 = jackhammer\n",
    "# 8 = siren\n",
    "# 9 = street_music\n",
    "    \n",
    "class_label = ['air_conditioner', 'car_horn', 'children_playing', 'dog_bark',\n",
    "          'drilling', 'engine_idling', 'gun_shot', 'jackhammer',\n",
    "          'siren', 'street_music']"
   ]
  },
  {
   "cell_type": "code",
   "execution_count": 51,
   "metadata": {},
   "outputs": [
    {
     "name": "stdout",
     "output_type": "stream",
     "text": [
      "              precision    recall  f1-score   support\n",
      "\n",
      "         0.0       0.97      0.94      0.95       192\n",
      "         1.0       0.88      0.96      0.92        77\n",
      "         2.0       0.78      0.93      0.85       202\n",
      "         3.0       0.96      0.80      0.87       219\n",
      "         4.0       0.90      0.90      0.90       185\n",
      "         5.0       0.90      0.97      0.93       206\n",
      "         6.0       0.89      0.98      0.93        63\n",
      "         7.0       0.94      0.95      0.95       196\n",
      "         8.0       0.95      0.95      0.95       191\n",
      "         9.0       0.95      0.80      0.87       216\n",
      "\n",
      "   micro avg       0.91      0.91      0.91      1747\n",
      "   macro avg       0.91      0.92      0.91      1747\n",
      "weighted avg       0.91      0.91      0.91      1747\n",
      "\n"
     ]
    }
   ],
   "source": [
    "# Evaluate the model: using classification report and confusion matrix\n",
    "# using classification report and confusion matrix\n",
    "from sklearn.metrics import classification_report, confusion_matrix\n",
    "\n",
    "# show classification report\n",
    "print(classification_report(val_test, val_preds))"
   ]
  },
  {
   "cell_type": "code",
   "execution_count": 52,
   "metadata": {},
   "outputs": [
    {
     "name": "stdout",
     "output_type": "stream",
     "text": [
      "Confusion matrix, without normalization\n",
      "[[180   1   4   0   1   4   1   1   0   0]\n",
      " [  1  74   0   0   2   0   0   0   0   0]\n",
      " [  0   1 188   1   0   5   0   2   2   3]\n",
      " [  0   4  18 176   6   5   2   1   6   1]\n",
      " [  4   0   1   1 167   1   3   6   1   1]\n",
      " [  0   1   2   0   0 200   0   0   1   2]\n",
      " [  0   0   1   0   0   0  62   0   0   0]\n",
      " [  0   0   0   0   8   0   1 187   0   0]\n",
      " [  0   0   2   3   1   1   0   0 182   2]\n",
      " [  1   3  26   3   1   6   1   2   0 173]]\n"
     ]
    },
    {
     "data": {
      "image/png": "[encoded data removed]",
      "text/plain": [
       "<Figure size 720x720 with 2 Axes>"
      ]
     },
     "metadata": {
      "needs_background": "light"
     },
     "output_type": "display_data"
    }
   ],
   "source": [
    "# show confusion matrix\n",
    "# confusion_matrix(y_true, y_pred)\n",
    "cm = confusion_matrix(val_test, val_preds)\n",
    "\n",
    "# plot confusion matrix\n",
    "plt.figure(figsize=(10,10))\n",
    "plot_confusion_matrix(cm=cm, classes=class_label, title='Confusion Matrix' )"
   ]
  },
  {
   "cell_type": "markdown",
   "metadata": {},
   "source": [
    "# Test the model with sample audio"
   ]
  },
  {
   "cell_type": "code",
   "execution_count": 27,
   "metadata": {},
   "outputs": [
    {
     "data": {
      "text/html": [
       "<div>\n",
       "<style scoped>\n",
       "    .dataframe tbody tr th:only-of-type {\n",
       "        vertical-align: middle;\n",
       "    }\n",
       "\n",
       "    .dataframe tbody tr th {\n",
       "        vertical-align: top;\n",
       "    }\n",
       "\n",
       "    .dataframe thead th {\n",
       "        text-align: right;\n",
       "    }\n",
       "</style>\n",
       "<table border=\"1\" class=\"dataframe\">\n",
       "  <thead>\n",
       "    <tr style=\"text-align: right;\">\n",
       "      <th></th>\n",
       "      <th>slice_file_name</th>\n",
       "      <th>fsID</th>\n",
       "      <th>start</th>\n",
       "      <th>end</th>\n",
       "      <th>salience</th>\n",
       "      <th>fold</th>\n",
       "      <th>classID</th>\n",
       "      <th>class_name</th>\n",
       "    </tr>\n",
       "  </thead>\n",
       "  <tbody>\n",
       "    <tr>\n",
       "      <th>0</th>\n",
       "      <td>100852-0-0-0.wav</td>\n",
       "      <td>100852</td>\n",
       "      <td>0.000000</td>\n",
       "      <td>4.000000</td>\n",
       "      <td>1</td>\n",
       "      <td>5</td>\n",
       "      <td>0</td>\n",
       "      <td>air_conditioner</td>\n",
       "    </tr>\n",
       "    <tr>\n",
       "      <th>1</th>\n",
       "      <td>100648-1-0-0.wav</td>\n",
       "      <td>100648</td>\n",
       "      <td>4.823402</td>\n",
       "      <td>5.471927</td>\n",
       "      <td>2</td>\n",
       "      <td>10</td>\n",
       "      <td>1</td>\n",
       "      <td>car_horn</td>\n",
       "    </tr>\n",
       "    <tr>\n",
       "      <th>2</th>\n",
       "      <td>100263-2-0-117.wav</td>\n",
       "      <td>100263</td>\n",
       "      <td>58.500000</td>\n",
       "      <td>62.500000</td>\n",
       "      <td>1</td>\n",
       "      <td>5</td>\n",
       "      <td>2</td>\n",
       "      <td>children_playing</td>\n",
       "    </tr>\n",
       "    <tr>\n",
       "      <th>3</th>\n",
       "      <td>100032-3-0-0.wav</td>\n",
       "      <td>100032</td>\n",
       "      <td>0.000000</td>\n",
       "      <td>0.317551</td>\n",
       "      <td>1</td>\n",
       "      <td>5</td>\n",
       "      <td>3</td>\n",
       "      <td>dog_bark</td>\n",
       "    </tr>\n",
       "    <tr>\n",
       "      <th>4</th>\n",
       "      <td>103199-4-0-0.wav</td>\n",
       "      <td>103199</td>\n",
       "      <td>0.000000</td>\n",
       "      <td>4.000000</td>\n",
       "      <td>1</td>\n",
       "      <td>3</td>\n",
       "      <td>4</td>\n",
       "      <td>drilling</td>\n",
       "    </tr>\n",
       "    <tr>\n",
       "      <th>5</th>\n",
       "      <td>102857-5-0-0.wav</td>\n",
       "      <td>102857</td>\n",
       "      <td>0.000000</td>\n",
       "      <td>4.000000</td>\n",
       "      <td>1</td>\n",
       "      <td>10</td>\n",
       "      <td>5</td>\n",
       "      <td>engine_idling</td>\n",
       "    </tr>\n",
       "    <tr>\n",
       "      <th>6</th>\n",
       "      <td>102305-6-0-0.wav</td>\n",
       "      <td>102305</td>\n",
       "      <td>0.000000</td>\n",
       "      <td>2.611610</td>\n",
       "      <td>1</td>\n",
       "      <td>1</td>\n",
       "      <td>6</td>\n",
       "      <td>gun_shot</td>\n",
       "    </tr>\n",
       "    <tr>\n",
       "      <th>7</th>\n",
       "      <td>103074-7-0-0.wav</td>\n",
       "      <td>103074</td>\n",
       "      <td>3.341279</td>\n",
       "      <td>7.341279</td>\n",
       "      <td>1</td>\n",
       "      <td>1</td>\n",
       "      <td>7</td>\n",
       "      <td>jackhammer</td>\n",
       "    </tr>\n",
       "    <tr>\n",
       "      <th>8</th>\n",
       "      <td>102853-8-0-0.wav</td>\n",
       "      <td>102853</td>\n",
       "      <td>0.000000</td>\n",
       "      <td>4.000000</td>\n",
       "      <td>2</td>\n",
       "      <td>7</td>\n",
       "      <td>8</td>\n",
       "      <td>siren</td>\n",
       "    </tr>\n",
       "    <tr>\n",
       "      <th>9</th>\n",
       "      <td>101848-9-0-0.wav</td>\n",
       "      <td>101848</td>\n",
       "      <td>0.000000</td>\n",
       "      <td>4.000000</td>\n",
       "      <td>1</td>\n",
       "      <td>7</td>\n",
       "      <td>9</td>\n",
       "      <td>street_music</td>\n",
       "    </tr>\n",
       "  </tbody>\n",
       "</table>\n",
       "</div>"
      ],
      "text/plain": [
       "      slice_file_name    fsID      start        end  salience  fold  classID  \\\n",
       "0    100852-0-0-0.wav  100852   0.000000   4.000000         1     5        0   \n",
       "1    100648-1-0-0.wav  100648   4.823402   5.471927         2    10        1   \n",
       "2  100263-2-0-117.wav  100263  58.500000  62.500000         1     5        2   \n",
       "3    100032-3-0-0.wav  100032   0.000000   0.317551         1     5        3   \n",
       "4    103199-4-0-0.wav  103199   0.000000   4.000000         1     3        4   \n",
       "5    102857-5-0-0.wav  102857   0.000000   4.000000         1    10        5   \n",
       "6    102305-6-0-0.wav  102305   0.000000   2.611610         1     1        6   \n",
       "7    103074-7-0-0.wav  103074   3.341279   7.341279         1     1        7   \n",
       "8    102853-8-0-0.wav  102853   0.000000   4.000000         2     7        8   \n",
       "9    101848-9-0-0.wav  101848   0.000000   4.000000         1     7        9   \n",
       "\n",
       "         class_name  \n",
       "0   air_conditioner  \n",
       "1          car_horn  \n",
       "2  children_playing  \n",
       "3          dog_bark  \n",
       "4          drilling  \n",
       "5     engine_idling  \n",
       "6          gun_shot  \n",
       "7        jackhammer  \n",
       "8             siren  \n",
       "9      street_music  "
      ]
     },
     "execution_count": 27,
     "metadata": {},
     "output_type": "execute_result"
    }
   ],
   "source": [
    "# load sample audio\n",
    "list_audio = pd.read_excel(SAMPLE_AUDIO_FP + SAMPLE_AUDIO_FN)\n",
    "list_audio"
   ]
  },
  {
   "cell_type": "code",
   "execution_count": 60,
   "metadata": {},
   "outputs": [
    {
     "name": "stdout",
     "output_type": "stream",
     "text": [
      "The original class is: air_conditioner\n",
      "The predicted class is: air_conditioner \n",
      "\n"
     ]
    },
    {
     "data": {
      "image/png": "[encoded data removed]",
      "text/plain": [
       "<Figure size 576x288 with 1 Axes>"
      ]
     },
     "metadata": {
      "needs_background": "light"
     },
     "output_type": "display_data"
    },
    {
     "name": "stdout",
     "output_type": "stream",
     "text": [
      "\n",
      "\n",
      "The original class is: car_horn\n",
      "The predicted class is: car_horn \n",
      "\n"
     ]
    },
    {
     "data": {
      "image/png": "[encoded data removed]",
      "text/plain": [
       "<Figure size 576x288 with 1 Axes>"
      ]
     },
     "metadata": {
      "needs_background": "light"
     },
     "output_type": "display_data"
    },
    {
     "name": "stdout",
     "output_type": "stream",
     "text": [
      "\n",
      "\n",
      "The original class is: children_playing\n",
      "The predicted class is: children_playing \n",
      "\n"
     ]
    },
    {
     "data": {
      "image/png": "[encoded data removed]",
      "text/plain": [
       "<Figure size 576x288 with 1 Axes>"
      ]
     },
     "metadata": {
      "needs_background": "light"
     },
     "output_type": "display_data"
    },
    {
     "name": "stdout",
     "output_type": "stream",
     "text": [
      "\n",
      "\n",
      "The original class is: dog_bark\n",
      "The predicted class is: dog_bark \n",
      "\n"
     ]
    },
    {
     "data": {
      "image/png": "[encoded data removed]",
      "text/plain": [
       "<Figure size 576x288 with 1 Axes>"
      ]
     },
     "metadata": {
      "needs_background": "light"
     },
     "output_type": "display_data"
    },
    {
     "name": "stdout",
     "output_type": "stream",
     "text": [
      "\n",
      "\n",
      "The original class is: drilling\n",
      "The predicted class is: drilling \n",
      "\n"
     ]
    },
    {
     "data": {
      "image/png": "[encoded data removed]",
      "text/plain": [
       "<Figure size 576x288 with 1 Axes>"
      ]
     },
     "metadata": {
      "needs_background": "light"
     },
     "output_type": "display_data"
    },
    {
     "name": "stdout",
     "output_type": "stream",
     "text": [
      "\n",
      "\n",
      "The original class is: engine_idling\n",
      "The predicted class is: engine_idling \n",
      "\n"
     ]
    },
    {
     "data": {
      "image/png": "[encoded data removed]",
      "text/plain": [
       "<Figure size 576x288 with 1 Axes>"
      ]
     },
     "metadata": {
      "needs_background": "light"
     },
     "output_type": "display_data"
    },
    {
     "name": "stdout",
     "output_type": "stream",
     "text": [
      "\n",
      "\n",
      "The original class is: gun_shot\n",
      "The predicted class is: gun_shot \n",
      "\n"
     ]
    },
    {
     "data": {
      "image/png": "[encoded data removed]",
      "text/plain": [
       "<Figure size 576x288 with 1 Axes>"
      ]
     },
     "metadata": {
      "needs_background": "light"
     },
     "output_type": "display_data"
    },
    {
     "name": "stdout",
     "output_type": "stream",
     "text": [
      "\n",
      "\n",
      "The original class is: jackhammer\n",
      "The predicted class is: jackhammer \n",
      "\n"
     ]
    },
    {
     "data": {
      "image/png": "[encoded data removed]",
      "text/plain": [
       "<Figure size 576x288 with 1 Axes>"
      ]
     },
     "metadata": {
      "needs_background": "light"
     },
     "output_type": "display_data"
    },
    {
     "name": "stdout",
     "output_type": "stream",
     "text": [
      "\n",
      "\n",
      "The original class is: siren\n",
      "The predicted class is: siren \n",
      "\n"
     ]
    },
    {
     "data": {
      "image/png": "[encoded data removed]",
      "text/plain": [
       "<Figure size 576x288 with 1 Axes>"
      ]
     },
     "metadata": {
      "needs_background": "light"
     },
     "output_type": "display_data"
    },
    {
     "name": "stdout",
     "output_type": "stream",
     "text": [
      "\n",
      "\n",
      "The original class is: street_music\n",
      "The predicted class is: street_music \n",
      "\n"
     ]
    },
    {
     "data": {
      "image/png": "[encoded data removed]",
      "text/plain": [
       "<Figure size 576x288 with 1 Axes>"
      ]
     },
     "metadata": {
      "needs_background": "light"
     },
     "output_type": "display_data"
    },
    {
     "name": "stdout",
     "output_type": "stream",
     "text": [
      "\n",
      "\n"
     ]
    }
   ],
   "source": [
    "# test all sample audio with the model\n",
    "for i, row in list_audio.iterrows():\n",
    "    classname = row['class_name']\n",
    "    audiofile = row['slice_file_name']\n",
    "    \n",
    "    # audio full file name\n",
    "    audio_ffn = SAMPLE_AUDIO_FP + audiofile\n",
    "    \n",
    "    # feature\n",
    "    feature = extract_features(audio_ffn)\n",
    "    feature = feature.reshape(1, tot_rows, tot_columns, tot_channels)\n",
    "    \n",
    "    # predicted class\n",
    "    pred_vector = model.predict_classes(feature)\n",
    "    pred_class = LabelEncoder.inverse_transform(pred_vector) \n",
    "    \n",
    "    # all class prediction probability\n",
    "    pred_prob_vector = model.predict_proba(feature)\n",
    "    pred_prob_class = pred_prob_vector[0]\n",
    "    \n",
    "    # print out results\n",
    "    print(\"The original class is:\", classname)\n",
    "    print(\"The predicted class is:\", pred_class[0], '\\n')  \n",
    "    \n",
    "    # display all predict probability\n",
    "    #for i in range(len(pred_prob_class)): \n",
    "    #    category = LabelEncoder.inverse_transform(np.array([i]))\n",
    "    #    print(\"{:.2%}\".format(pred_prob_class[i]), category[0] )\n",
    "    \n",
    "    # display all predict probability\n",
    "    plt.figure(figsize=(8,4))\n",
    "    plt.barh(class_label, pred_prob_class)\n",
    "    plt.title(\"sample audio prediction: {}\".format(audiofile))\n",
    "    plt.show()\n",
    "    \n",
    "    print('\\n')\n"
   ]
  },
  {
   "cell_type": "code",
   "execution_count": null,
   "metadata": {},
   "outputs": [],
   "source": []
  }
 ],
 "metadata": {
  "kernelspec": {
   "display_name": "Python 3",
   "language": "python",
   "name": "python3"
  },
  "language_info": {
   "codemirror_mode": {
    "name": "ipython",
    "version": 3
   },
   "file_extension": ".py",
   "mimetype": "text/x-python",
   "name": "python",
   "nbconvert_exporter": "python",
   "pygments_lexer": "ipython3",
   "version": "3.7.1"
  }
 },
 "nbformat": 4,
 "nbformat_minor": 2
}
