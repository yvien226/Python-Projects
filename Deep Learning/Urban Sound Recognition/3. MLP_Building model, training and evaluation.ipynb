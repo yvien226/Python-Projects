{
 "cells": [
  {
   "cell_type": "code",
   "execution_count": 107,
   "metadata": {},
   "outputs": [],
   "source": [
    "# import library\n",
    "import librosa\n",
    "import numpy as np\n",
    "import pandas as pd\n",
    "import itertools\n",
    "import matplotlib.pyplot as plt\n",
    "import os\n",
    "from datetime import datetime \n",
    "from keras.models import Sequential\n",
    "from keras.layers import Dense, Dropout, Activation, Flatten\n",
    "from keras.layers import Convolution2D, MaxPooling2D\n",
    "from keras.optimizers import Adam\n",
    "from keras.utils import np_utils\n",
    "from keras.callbacks import ModelCheckpoint \n",
    "from sklearn import metrics\n",
    "from sklearn.preprocessing import LabelEncoder"
   ]
  },
  {
   "cell_type": "markdown",
   "metadata": {},
   "source": [
    "# Inputs"
   ]
  },
  {
   "cell_type": "code",
   "execution_count": 108,
   "metadata": {},
   "outputs": [],
   "source": [
    "# TRAINED MODEL\n",
    "# model folder\n",
    "MODEL_FP = 'models/'\n",
    "\n",
    "# SAMPLE DATA\n",
    "# audio file path\n",
    "SAMPLE_AUDIO_FP = 'audio_sample/'\n",
    "\n",
    "# sample audio spreadsheet name\n",
    "SAMPLE_AUDIO_FN = 'list_of_sample_audio.xlsx'"
   ]
  },
  {
   "cell_type": "markdown",
   "metadata": {},
   "source": [
    "# Load stored preprocessed data "
   ]
  },
  {
   "cell_type": "code",
   "execution_count": 109,
   "metadata": {},
   "outputs": [],
   "source": [
    "%store -r x_train \n",
    "%store -r x_test \n",
    "%store -r y_train \n",
    "%store -r y_test \n",
    "%store -r y2\n",
    "%store -r LabelEncoder"
   ]
  },
  {
   "cell_type": "code",
   "execution_count": 110,
   "metadata": {},
   "outputs": [
    {
     "data": {
      "text/plain": [
       "array([[ -92.15989   ,  129.1144    ,  -34.144245  , ...,    2.5986712 ,\n",
       "           0.74938154,    3.6659362 ],\n",
       "       [-317.44446   ,  140.85509   ,   -4.442789  , ...,   -6.1748104 ,\n",
       "          -2.4074438 ,    1.9058033 ],\n",
       "       [-158.85657   ,  106.16268   ,  -16.495901  , ...,    2.3946655 ,\n",
       "          -0.7011692 ,    1.7082653 ],\n",
       "       ...,\n",
       "       [-151.8832    ,   95.09373   ,  -55.13047   , ...,  -24.268118  ,\n",
       "         -15.198542  ,   19.769062  ],\n",
       "       [-368.56152   ,  173.54724   ,  -18.311768  , ...,   -4.0129285 ,\n",
       "          -1.5358983 ,   -2.6071749 ],\n",
       "       [-213.24379   ,  139.36234   ,  -20.374676  , ...,   -3.2454274 ,\n",
       "          -0.83539003,    1.7700078 ]], dtype=float32)"
      ]
     },
     "execution_count": 110,
     "metadata": {},
     "output_type": "execute_result"
    }
   ],
   "source": [
    "x_train"
   ]
  },
  {
   "cell_type": "code",
   "execution_count": 111,
   "metadata": {},
   "outputs": [
    {
     "data": {
      "text/plain": [
       "(6985, 40)"
      ]
     },
     "execution_count": 111,
     "metadata": {},
     "output_type": "execute_result"
    }
   ],
   "source": [
    "# input shapes\n",
    "x_train.shape"
   ]
  },
  {
   "cell_type": "code",
   "execution_count": 112,
   "metadata": {},
   "outputs": [
    {
     "data": {
      "text/plain": [
       "(6985, 10)"
      ]
     },
     "execution_count": 112,
     "metadata": {},
     "output_type": "execute_result"
    }
   ],
   "source": [
    "y_train.shape"
   ]
  },
  {
   "cell_type": "code",
   "execution_count": 113,
   "metadata": {},
   "outputs": [],
   "source": [
    "# total number of class\n",
    "tot_class = y2.shape[1]\n",
    "\n",
    "# total inputs\n",
    "tot_input = x_train.shape[1]"
   ]
  },
  {
   "cell_type": "markdown",
   "metadata": {},
   "source": [
    "# Functions\n",
    "Customize functions"
   ]
  },
  {
   "cell_type": "code",
   "execution_count": 142,
   "metadata": {},
   "outputs": [],
   "source": [
    "# function used to extract feature from sample audio\n",
    "def extract_feature(file_name):\n",
    "   \n",
    "    try:\n",
    "        audio_data, sample_rate = librosa.load(file_name, res_type='kaiser_fast') \n",
    "        mfccs = librosa.feature.mfcc(y=audio_data, sr=sample_rate, n_mfcc=40)\n",
    "        mfccsscaled = np.mean(mfccs.T,axis=0)\n",
    "        \n",
    "    except Exception as e:\n",
    "        print(\"Error encountered while parsing file: \", file)\n",
    "        return None, None\n",
    "\n",
    "    return np.array([mfccsscaled])"
   ]
  },
  {
   "cell_type": "code",
   "execution_count": 143,
   "metadata": {},
   "outputs": [],
   "source": [
    "# function to plot confusion matrix\n",
    "# code source: https://deeplizard.com/learn/video/km7pxKy4UHU\n",
    "def plot_confusion_matrix(cm, classes,\n",
    "                        normalize=False,\n",
    "                        title='Confusion matrix',\n",
    "                        cmap=plt.cm.Blues):\n",
    "    \"\"\"\n",
    "    This function prints and plots the confusion matrix.\n",
    "    Normalization can be applied by setting `normalize=True`.\n",
    "    \"\"\"\n",
    "    plt.imshow(cm, interpolation='nearest', cmap=cmap)\n",
    "    plt.title(title)\n",
    "    plt.colorbar()\n",
    "    tick_marks = np.arange(len(classes))\n",
    "    plt.xticks(tick_marks, classes, rotation=45)\n",
    "    plt.yticks(tick_marks, classes)\n",
    "\n",
    "    if normalize:\n",
    "        cm = cm.astype('float') / cm.sum(axis=1)[:, np.newaxis]\n",
    "        print(\"Normalized confusion matrix\")\n",
    "    else:\n",
    "        print('Confusion matrix, without normalization')\n",
    "\n",
    "    print(cm)\n",
    "\n",
    "    thresh = cm.max() / 2.\n",
    "    for i, j in itertools.product(range(cm.shape[0]), range(cm.shape[1])):\n",
    "        plt.text(j, i, cm[i, j],\n",
    "            horizontalalignment=\"center\",\n",
    "            color=\"white\" if cm[i, j] > thresh else \"black\")\n",
    "\n",
    "    plt.tight_layout()\n",
    "    plt.ylabel('True label')\n",
    "    plt.xlabel('Predicted label')"
   ]
  },
  {
   "cell_type": "markdown",
   "metadata": {},
   "source": [
    "# Model architecture: MLP\n",
    "Construct a Multilayer perceptron (MLP) Neural Network using Keras and Tensorflow"
   ]
  },
  {
   "cell_type": "code",
   "execution_count": 114,
   "metadata": {},
   "outputs": [],
   "source": [
    "# Construct model and build layer by layer\n",
    "model = Sequential()"
   ]
  },
  {
   "cell_type": "markdown",
   "metadata": {},
   "source": [
    "Begin with simple model architecture, which consists of 3 layers:\n",
    "- Input layer\n",
    "- Hidden layer\n",
    "- Output layer\n",
    "\n",
    "\n",
    "All 3 layers will be \"dense\" layer type which is the standard layer type in NN.\n",
    "\n",
    "Architecture structure:\n",
    "1. **First layer:** receive input shape. Each audio contains 40 MFCCs (columns)\n",
    "2. **First 2 layer:** 256 nodes, and dropout 50%. Dropout will randomly exclude nodes from each update cycle which resulting in a network have better generalisation and less likely to overfit the training data.\n",
    "3. **First 2 layer Activation function**: relu (Rectified Linear Activation), proven to have work well in NN.\n",
    "4. **Output layer:** 10 nodes (total classes).\n",
    "5. **Output layer activation:** softmax. This makes the output sum up to 1 so the output can be innterpreted as probabilities. The model will make its prediction  based on which option has the highest probability."
   ]
  },
  {
   "cell_type": "code",
   "execution_count": 115,
   "metadata": {},
   "outputs": [],
   "source": [
    "# model architecture\n",
    "model.add(Dense(256, input_shape=(tot_input,)))\n",
    "model.add(Activation('relu'))\n",
    "model.add(Dropout(0.5))\n",
    "\n",
    "model.add(Dense(256))\n",
    "model.add(Activation('relu'))\n",
    "model.add(Dropout(0.5))\n",
    "\n",
    "model.add(Dense(tot_class))\n",
    "model.add(Activation('softmax'))"
   ]
  },
  {
   "cell_type": "markdown",
   "metadata": {},
   "source": [
    "# Compile the model\n",
    "Use the following 3 parameters to compile the model:\n",
    "- Loss function: \"Categorical crossentropy\". Most common choice for classification. Low score = model is performing better.\n",
    "- Metrics: \"accuracy\". Allow to view accuracy score to validate the data.\n",
    "- Optimizer: \"adam\", common and generally good optimizer."
   ]
  },
  {
   "cell_type": "code",
   "execution_count": 116,
   "metadata": {},
   "outputs": [],
   "source": [
    "# Compile the model\n",
    "model.compile(loss='categorical_crossentropy', \n",
    "              metrics=['accuracy'], \n",
    "              optimizer='adam') "
   ]
  },
  {
   "cell_type": "code",
   "execution_count": 117,
   "metadata": {},
   "outputs": [
    {
     "name": "stdout",
     "output_type": "stream",
     "text": [
      "Model: \"sequential_2\"\n",
      "_________________________________________________________________\n",
      "Layer (type)                 Output Shape              Param #   \n",
      "=================================================================\n",
      "dense_6 (Dense)              (None, 256)               10496     \n",
      "_________________________________________________________________\n",
      "activation_6 (Activation)    (None, 256)               0         \n",
      "_________________________________________________________________\n",
      "dropout_5 (Dropout)          (None, 256)               0         \n",
      "_________________________________________________________________\n",
      "dense_7 (Dense)              (None, 256)               65792     \n",
      "_________________________________________________________________\n",
      "activation_7 (Activation)    (None, 256)               0         \n",
      "_________________________________________________________________\n",
      "dropout_6 (Dropout)          (None, 256)               0         \n",
      "_________________________________________________________________\n",
      "dense_8 (Dense)              (None, 10)                2570      \n",
      "_________________________________________________________________\n",
      "activation_8 (Activation)    (None, 10)                0         \n",
      "=================================================================\n",
      "Total params: 78,858\n",
      "Trainable params: 78,858\n",
      "Non-trainable params: 0\n",
      "_________________________________________________________________\n"
     ]
    }
   ],
   "source": [
    "# Display the model architecture\n",
    "model.summary()"
   ]
  },
  {
   "cell_type": "code",
   "execution_count": 118,
   "metadata": {},
   "outputs": [
    {
     "name": "stdout",
     "output_type": "stream",
     "text": [
      "Pre-training accuracy: 7.5558%\n"
     ]
    }
   ],
   "source": [
    "# show pre-training accuracy\n",
    "score = model.evaluate(x_test, y_test, verbose=0)\n",
    "accuracy = 100 * score[1]\n",
    "print(\"Pre-training accuracy: %.4f%%\" % accuracy)"
   ]
  },
  {
   "cell_type": "markdown",
   "metadata": {},
   "source": [
    "# Train the model\n",
    "Train the model.\n",
    "\n",
    "- Start with 100 epoch (number of times the model will cycle through the data).\n",
    "- Start with 32 batch size. Large batch size can reduce the generalisation ability of the model\n"
   ]
  },
  {
   "cell_type": "code",
   "execution_count": 119,
   "metadata": {},
   "outputs": [
    {
     "name": "stdout",
     "output_type": "stream",
     "text": [
      "Train on 6985 samples, validate on 1747 samples\n",
      "Epoch 1/100\n",
      "6985/6985 [==============================] - 1s 80us/step - loss: 8.7573 - accuracy: 0.1914 - val_loss: 2.1725 - val_accuracy: 0.1597\n",
      "\n",
      "Epoch 00001: val_loss improved from inf to 2.17254, saving model to models/mlp_basic_model.hdf5\n",
      "Epoch 2/100\n",
      "6985/6985 [==============================] - 0s 71us/step - loss: 2.2972 - accuracy: 0.2213 - val_loss: 2.0992 - val_accuracy: 0.2438\n",
      "\n",
      "Epoch 00002: val_loss improved from 2.17254 to 2.09923, saving model to models/mlp_basic_model.hdf5\n",
      "Epoch 3/100\n",
      "6985/6985 [==============================] - 0s 66us/step - loss: 2.0637 - accuracy: 0.2746 - val_loss: 1.8808 - val_accuracy: 0.3589\n",
      "\n",
      "Epoch 00003: val_loss improved from 2.09923 to 1.88076, saving model to models/mlp_basic_model.hdf5\n",
      "Epoch 4/100\n",
      "6985/6985 [==============================] - 0s 64us/step - loss: 1.9195 - accuracy: 0.3137 - val_loss: 1.7280 - val_accuracy: 0.4093\n",
      "\n",
      "Epoch 00004: val_loss improved from 1.88076 to 1.72798, saving model to models/mlp_basic_model.hdf5\n",
      "Epoch 5/100\n",
      "6985/6985 [==============================] - 0s 63us/step - loss: 1.7976 - accuracy: 0.3578 - val_loss: 1.6025 - val_accuracy: 0.4442\n",
      "\n",
      "Epoch 00005: val_loss improved from 1.72798 to 1.60247, saving model to models/mlp_basic_model.hdf5\n",
      "Epoch 6/100\n",
      "6985/6985 [==============================] - 0s 71us/step - loss: 1.6953 - accuracy: 0.3979 - val_loss: 1.5028 - val_accuracy: 0.5215\n",
      "\n",
      "Epoch 00006: val_loss improved from 1.60247 to 1.50279, saving model to models/mlp_basic_model.hdf5\n",
      "Epoch 7/100\n",
      "6985/6985 [==============================] - 1s 105us/step - loss: 1.5988 - accuracy: 0.4283 - val_loss: 1.4363 - val_accuracy: 0.5341\n",
      "\n",
      "Epoch 00007: val_loss improved from 1.50279 to 1.43627, saving model to models/mlp_basic_model.hdf5\n",
      "Epoch 8/100\n",
      "6985/6985 [==============================] - 1s 79us/step - loss: 1.5155 - accuracy: 0.4739 - val_loss: 1.2784 - val_accuracy: 0.6022\n",
      "\n",
      "Epoch 00008: val_loss improved from 1.43627 to 1.27837, saving model to models/mlp_basic_model.hdf5\n",
      "Epoch 9/100\n",
      "6985/6985 [==============================] - 1s 74us/step - loss: 1.4281 - accuracy: 0.5101 - val_loss: 1.2455 - val_accuracy: 0.5970\n",
      "\n",
      "Epoch 00009: val_loss improved from 1.27837 to 1.24548, saving model to models/mlp_basic_model.hdf5\n",
      "Epoch 10/100\n",
      "6985/6985 [==============================] - 0s 62us/step - loss: 1.3687 - accuracy: 0.5309 - val_loss: 1.1475 - val_accuracy: 0.6297\n",
      "\n",
      "Epoch 00010: val_loss improved from 1.24548 to 1.14750, saving model to models/mlp_basic_model.hdf5\n",
      "Epoch 11/100\n",
      "6985/6985 [==============================] - 0s 67us/step - loss: 1.3083 - accuracy: 0.5500 - val_loss: 1.0900 - val_accuracy: 0.6680\n",
      "\n",
      "Epoch 00011: val_loss improved from 1.14750 to 1.09004, saving model to models/mlp_basic_model.hdf5\n",
      "Epoch 12/100\n",
      "6985/6985 [==============================] - 0s 66us/step - loss: 1.2399 - accuracy: 0.5724 - val_loss: 1.0612 - val_accuracy: 0.6714\n",
      "\n",
      "Epoch 00012: val_loss improved from 1.09004 to 1.06121, saving model to models/mlp_basic_model.hdf5\n",
      "Epoch 13/100\n",
      "6985/6985 [==============================] - 0s 65us/step - loss: 1.1823 - accuracy: 0.5983 - val_loss: 0.9911 - val_accuracy: 0.7018\n",
      "\n",
      "Epoch 00013: val_loss improved from 1.06121 to 0.99106, saving model to models/mlp_basic_model.hdf5\n",
      "Epoch 14/100\n",
      "6985/6985 [==============================] - 0s 70us/step - loss: 1.1542 - accuracy: 0.6115 - val_loss: 0.9757 - val_accuracy: 0.7069\n",
      "\n",
      "Epoch 00014: val_loss improved from 0.99106 to 0.97574, saving model to models/mlp_basic_model.hdf5\n",
      "Epoch 15/100\n",
      "6985/6985 [==============================] - 0s 65us/step - loss: 1.0949 - accuracy: 0.6253 - val_loss: 0.9279 - val_accuracy: 0.7109\n",
      "\n",
      "Epoch 00015: val_loss improved from 0.97574 to 0.92786, saving model to models/mlp_basic_model.hdf5\n",
      "Epoch 16/100\n",
      "6985/6985 [==============================] - 0s 61us/step - loss: 1.0617 - accuracy: 0.6372 - val_loss: 0.8991 - val_accuracy: 0.7207\n",
      "\n",
      "Epoch 00016: val_loss improved from 0.92786 to 0.89910, saving model to models/mlp_basic_model.hdf5\n",
      "Epoch 17/100\n",
      "6985/6985 [==============================] - 0s 65us/step - loss: 1.0262 - accuracy: 0.6573 - val_loss: 0.8570 - val_accuracy: 0.7418\n",
      "\n",
      "Epoch 00017: val_loss improved from 0.89910 to 0.85701, saving model to models/mlp_basic_model.hdf5\n",
      "Epoch 18/100\n",
      "6985/6985 [==============================] - 0s 66us/step - loss: 0.9976 - accuracy: 0.6686 - val_loss: 0.8249 - val_accuracy: 0.7613\n",
      "\n",
      "Epoch 00018: val_loss improved from 0.85701 to 0.82486, saving model to models/mlp_basic_model.hdf5\n",
      "Epoch 19/100\n",
      "6985/6985 [==============================] - 0s 67us/step - loss: 0.9546 - accuracy: 0.6795 - val_loss: 0.8036 - val_accuracy: 0.7590\n",
      "\n",
      "Epoch 00019: val_loss improved from 0.82486 to 0.80358, saving model to models/mlp_basic_model.hdf5\n",
      "Epoch 20/100\n",
      "6985/6985 [==============================] - 0s 68us/step - loss: 0.9360 - accuracy: 0.6901 - val_loss: 0.7837 - val_accuracy: 0.7659\n",
      "\n",
      "Epoch 00020: val_loss improved from 0.80358 to 0.78369, saving model to models/mlp_basic_model.hdf5\n",
      "Epoch 21/100\n",
      "6985/6985 [==============================] - 0s 66us/step - loss: 0.9195 - accuracy: 0.6872 - val_loss: 0.7510 - val_accuracy: 0.7728\n",
      "\n",
      "Epoch 00021: val_loss improved from 0.78369 to 0.75102, saving model to models/mlp_basic_model.hdf5\n",
      "Epoch 22/100\n",
      "6985/6985 [==============================] - 0s 69us/step - loss: 0.8798 - accuracy: 0.7018 - val_loss: 0.7449 - val_accuracy: 0.7750\n",
      "\n",
      "Epoch 00022: val_loss improved from 0.75102 to 0.74493, saving model to models/mlp_basic_model.hdf5\n",
      "Epoch 23/100\n",
      "6985/6985 [==============================] - 0s 70us/step - loss: 0.8671 - accuracy: 0.7094 - val_loss: 0.7246 - val_accuracy: 0.7842\n",
      "\n",
      "Epoch 00023: val_loss improved from 0.74493 to 0.72461, saving model to models/mlp_basic_model.hdf5\n",
      "Epoch 24/100\n",
      "6985/6985 [==============================] - 0s 68us/step - loss: 0.8505 - accuracy: 0.7120 - val_loss: 0.6962 - val_accuracy: 0.7865\n",
      "\n",
      "Epoch 00024: val_loss improved from 0.72461 to 0.69617, saving model to models/mlp_basic_model.hdf5\n",
      "Epoch 25/100\n",
      "6985/6985 [==============================] - 0s 61us/step - loss: 0.8400 - accuracy: 0.7112 - val_loss: 0.6764 - val_accuracy: 0.7979\n",
      "\n",
      "Epoch 00025: val_loss improved from 0.69617 to 0.67638, saving model to models/mlp_basic_model.hdf5\n",
      "Epoch 26/100\n",
      "6985/6985 [==============================] - 0s 65us/step - loss: 0.8413 - accuracy: 0.7173 - val_loss: 0.6732 - val_accuracy: 0.7962\n",
      "\n",
      "Epoch 00026: val_loss improved from 0.67638 to 0.67319, saving model to models/mlp_basic_model.hdf5\n",
      "Epoch 27/100\n",
      "6985/6985 [==============================] - 0s 62us/step - loss: 0.8124 - accuracy: 0.7283 - val_loss: 0.6451 - val_accuracy: 0.8042\n",
      "\n",
      "Epoch 00027: val_loss improved from 0.67319 to 0.64505, saving model to models/mlp_basic_model.hdf5\n",
      "Epoch 28/100\n",
      "6985/6985 [==============================] - 0s 69us/step - loss: 0.7987 - accuracy: 0.7331 - val_loss: 0.6492 - val_accuracy: 0.7962\n",
      "\n",
      "Epoch 00028: val_loss did not improve from 0.64505\n",
      "Epoch 29/100\n",
      "6985/6985 [==============================] - 0s 63us/step - loss: 0.7843 - accuracy: 0.7341 - val_loss: 0.6363 - val_accuracy: 0.8054\n",
      "\n",
      "Epoch 00029: val_loss improved from 0.64505 to 0.63630, saving model to models/mlp_basic_model.hdf5\n",
      "Epoch 30/100\n",
      "6985/6985 [==============================] - 0s 63us/step - loss: 0.7802 - accuracy: 0.7298 - val_loss: 0.6367 - val_accuracy: 0.7939\n",
      "\n",
      "Epoch 00030: val_loss did not improve from 0.63630\n",
      "Epoch 31/100\n",
      "6985/6985 [==============================] - 0s 63us/step - loss: 0.7622 - accuracy: 0.7460 - val_loss: 0.6307 - val_accuracy: 0.8105\n",
      "\n",
      "Epoch 00031: val_loss improved from 0.63630 to 0.63075, saving model to models/mlp_basic_model.hdf5\n",
      "Epoch 32/100\n",
      "6985/6985 [==============================] - 0s 62us/step - loss: 0.7544 - accuracy: 0.7466 - val_loss: 0.6044 - val_accuracy: 0.8151\n",
      "\n",
      "Epoch 00032: val_loss improved from 0.63075 to 0.60439, saving model to models/mlp_basic_model.hdf5\n",
      "Epoch 33/100\n",
      "6985/6985 [==============================] - 0s 63us/step - loss: 0.7487 - accuracy: 0.7437 - val_loss: 0.6098 - val_accuracy: 0.8140\n",
      "\n",
      "Epoch 00033: val_loss did not improve from 0.60439\n",
      "Epoch 34/100\n",
      "6985/6985 [==============================] - 0s 67us/step - loss: 0.7318 - accuracy: 0.7529 - val_loss: 0.6224 - val_accuracy: 0.7968\n"
     ]
    },
    {
     "name": "stdout",
     "output_type": "stream",
     "text": [
      "\n",
      "Epoch 00034: val_loss did not improve from 0.60439\n",
      "Epoch 35/100\n",
      "6985/6985 [==============================] - 0s 61us/step - loss: 0.7269 - accuracy: 0.7549 - val_loss: 0.5925 - val_accuracy: 0.8237\n",
      "\n",
      "Epoch 00035: val_loss improved from 0.60439 to 0.59251, saving model to models/mlp_basic_model.hdf5\n",
      "Epoch 36/100\n",
      "6985/6985 [==============================] - 0s 62us/step - loss: 0.6958 - accuracy: 0.7672 - val_loss: 0.5810 - val_accuracy: 0.8197\n",
      "\n",
      "Epoch 00036: val_loss improved from 0.59251 to 0.58102, saving model to models/mlp_basic_model.hdf5\n",
      "Epoch 37/100\n",
      "6985/6985 [==============================] - 0s 65us/step - loss: 0.6991 - accuracy: 0.7655 - val_loss: 0.5702 - val_accuracy: 0.8260\n",
      "\n",
      "Epoch 00037: val_loss improved from 0.58102 to 0.57022, saving model to models/mlp_basic_model.hdf5\n",
      "Epoch 38/100\n",
      "6985/6985 [==============================] - 0s 66us/step - loss: 0.6881 - accuracy: 0.7664 - val_loss: 0.5557 - val_accuracy: 0.8306\n",
      "\n",
      "Epoch 00038: val_loss improved from 0.57022 to 0.55572, saving model to models/mlp_basic_model.hdf5\n",
      "Epoch 39/100\n",
      "6985/6985 [==============================] - 0s 66us/step - loss: 0.6671 - accuracy: 0.7790 - val_loss: 0.5389 - val_accuracy: 0.8369\n",
      "\n",
      "Epoch 00039: val_loss improved from 0.55572 to 0.53886, saving model to models/mlp_basic_model.hdf5\n",
      "Epoch 40/100\n",
      "6985/6985 [==============================] - 0s 65us/step - loss: 0.6730 - accuracy: 0.7692 - val_loss: 0.5593 - val_accuracy: 0.8277\n",
      "\n",
      "Epoch 00040: val_loss did not improve from 0.53886\n",
      "Epoch 41/100\n",
      "6985/6985 [==============================] - 0s 63us/step - loss: 0.6732 - accuracy: 0.7707 - val_loss: 0.5831 - val_accuracy: 0.8214\n",
      "\n",
      "Epoch 00041: val_loss did not improve from 0.53886\n",
      "Epoch 42/100\n",
      "6985/6985 [==============================] - 0s 66us/step - loss: 0.6702 - accuracy: 0.7717 - val_loss: 0.5444 - val_accuracy: 0.8254\n",
      "\n",
      "Epoch 00042: val_loss did not improve from 0.53886\n",
      "Epoch 43/100\n",
      "6985/6985 [==============================] - 0s 67us/step - loss: 0.6613 - accuracy: 0.7820 - val_loss: 0.5259 - val_accuracy: 0.8386\n",
      "\n",
      "Epoch 00043: val_loss improved from 0.53886 to 0.52589, saving model to models/mlp_basic_model.hdf5\n",
      "Epoch 44/100\n",
      "6985/6985 [==============================] - 0s 63us/step - loss: 0.6445 - accuracy: 0.7774 - val_loss: 0.5247 - val_accuracy: 0.8392\n",
      "\n",
      "Epoch 00044: val_loss improved from 0.52589 to 0.52470, saving model to models/mlp_basic_model.hdf5\n",
      "Epoch 45/100\n",
      "6985/6985 [==============================] - 0s 66us/step - loss: 0.6650 - accuracy: 0.7767 - val_loss: 0.5491 - val_accuracy: 0.8231\n",
      "\n",
      "Epoch 00045: val_loss did not improve from 0.52470\n",
      "Epoch 46/100\n",
      "6985/6985 [==============================] - 0s 62us/step - loss: 0.6412 - accuracy: 0.7801 - val_loss: 0.5265 - val_accuracy: 0.8311\n",
      "\n",
      "Epoch 00046: val_loss did not improve from 0.52470\n",
      "Epoch 47/100\n",
      "6985/6985 [==============================] - 0s 63us/step - loss: 0.6456 - accuracy: 0.7845 - val_loss: 0.5208 - val_accuracy: 0.8323\n",
      "\n",
      "Epoch 00047: val_loss improved from 0.52470 to 0.52083, saving model to models/mlp_basic_model.hdf5\n",
      "Epoch 48/100\n",
      "6985/6985 [==============================] - 0s 65us/step - loss: 0.6288 - accuracy: 0.7850 - val_loss: 0.5278 - val_accuracy: 0.8369\n",
      "\n",
      "Epoch 00048: val_loss did not improve from 0.52083\n",
      "Epoch 49/100\n",
      "6985/6985 [==============================] - 0s 64us/step - loss: 0.6354 - accuracy: 0.7873 - val_loss: 0.5232 - val_accuracy: 0.8306\n",
      "\n",
      "Epoch 00049: val_loss did not improve from 0.52083\n",
      "Epoch 50/100\n",
      "6985/6985 [==============================] - 0s 63us/step - loss: 0.5953 - accuracy: 0.7963 - val_loss: 0.5074 - val_accuracy: 0.8357\n",
      "\n",
      "Epoch 00050: val_loss improved from 0.52083 to 0.50736, saving model to models/mlp_basic_model.hdf5\n",
      "Epoch 51/100\n",
      "6985/6985 [==============================] - 0s 66us/step - loss: 0.6218 - accuracy: 0.7920 - val_loss: 0.5034 - val_accuracy: 0.8483\n",
      "\n",
      "Epoch 00051: val_loss improved from 0.50736 to 0.50344, saving model to models/mlp_basic_model.hdf5\n",
      "Epoch 52/100\n",
      "6985/6985 [==============================] - 0s 66us/step - loss: 0.6305 - accuracy: 0.7847 - val_loss: 0.5156 - val_accuracy: 0.8397\n",
      "\n",
      "Epoch 00052: val_loss did not improve from 0.50344\n",
      "Epoch 53/100\n",
      "6985/6985 [==============================] - 0s 68us/step - loss: 0.6220 - accuracy: 0.7898 - val_loss: 0.5210 - val_accuracy: 0.8420\n",
      "\n",
      "Epoch 00053: val_loss did not improve from 0.50344\n",
      "Epoch 54/100\n",
      "6985/6985 [==============================] - 0s 64us/step - loss: 0.6162 - accuracy: 0.7926 - val_loss: 0.4878 - val_accuracy: 0.8495\n",
      "\n",
      "Epoch 00054: val_loss improved from 0.50344 to 0.48781, saving model to models/mlp_basic_model.hdf5\n",
      "Epoch 55/100\n",
      "6985/6985 [==============================] - 0s 68us/step - loss: 0.6130 - accuracy: 0.7891 - val_loss: 0.5128 - val_accuracy: 0.8500\n",
      "\n",
      "Epoch 00055: val_loss did not improve from 0.48781\n",
      "Epoch 56/100\n",
      "6985/6985 [==============================] - 0s 61us/step - loss: 0.6071 - accuracy: 0.7920 - val_loss: 0.5136 - val_accuracy: 0.8477\n",
      "\n",
      "Epoch 00056: val_loss did not improve from 0.48781\n",
      "Epoch 57/100\n",
      "6985/6985 [==============================] - 0s 68us/step - loss: 0.6266 - accuracy: 0.7873 - val_loss: 0.4874 - val_accuracy: 0.8552\n",
      "\n",
      "Epoch 00057: val_loss improved from 0.48781 to 0.48737, saving model to models/mlp_basic_model.hdf5\n",
      "Epoch 58/100\n",
      "6985/6985 [==============================] - 0s 62us/step - loss: 0.5828 - accuracy: 0.7997 - val_loss: 0.5046 - val_accuracy: 0.8403\n",
      "\n",
      "Epoch 00058: val_loss did not improve from 0.48737\n",
      "Epoch 59/100\n",
      "6985/6985 [==============================] - 0s 61us/step - loss: 0.5841 - accuracy: 0.8007 - val_loss: 0.4843 - val_accuracy: 0.8517\n",
      "\n",
      "Epoch 00059: val_loss improved from 0.48737 to 0.48430, saving model to models/mlp_basic_model.hdf5\n",
      "Epoch 60/100\n",
      "6985/6985 [==============================] - 0s 66us/step - loss: 0.5830 - accuracy: 0.8003 - val_loss: 0.4927 - val_accuracy: 0.8529\n",
      "\n",
      "Epoch 00060: val_loss did not improve from 0.48430\n",
      "Epoch 61/100\n",
      "6985/6985 [==============================] - 0s 70us/step - loss: 0.5896 - accuracy: 0.7964 - val_loss: 0.4719 - val_accuracy: 0.8495\n",
      "\n",
      "Epoch 00061: val_loss improved from 0.48430 to 0.47188, saving model to models/mlp_basic_model.hdf5\n",
      "Epoch 62/100\n",
      "6985/6985 [==============================] - 1s 81us/step - loss: 0.5857 - accuracy: 0.7994 - val_loss: 0.4689 - val_accuracy: 0.8609\n",
      "\n",
      "Epoch 00062: val_loss improved from 0.47188 to 0.46890, saving model to models/mlp_basic_model.hdf5\n",
      "Epoch 63/100\n",
      "6985/6985 [==============================] - 0s 65us/step - loss: 0.5676 - accuracy: 0.8094 - val_loss: 0.4867 - val_accuracy: 0.8529\n",
      "\n",
      "Epoch 00063: val_loss did not improve from 0.46890\n",
      "Epoch 64/100\n",
      "6985/6985 [==============================] - 1s 77us/step - loss: 0.5945 - accuracy: 0.8026 - val_loss: 0.4934 - val_accuracy: 0.8472\n",
      "\n",
      "Epoch 00064: val_loss did not improve from 0.46890\n",
      "Epoch 65/100\n",
      "6985/6985 [==============================] - 0s 62us/step - loss: 0.5954 - accuracy: 0.7981 - val_loss: 0.5090 - val_accuracy: 0.8523\n",
      "\n",
      "Epoch 00065: val_loss did not improve from 0.46890\n",
      "Epoch 66/100\n",
      "6985/6985 [==============================] - 0s 61us/step - loss: 0.5808 - accuracy: 0.8036 - val_loss: 0.4741 - val_accuracy: 0.8661\n",
      "\n",
      "Epoch 00066: val_loss did not improve from 0.46890\n",
      "Epoch 67/100\n",
      "6985/6985 [==============================] - 0s 70us/step - loss: 0.5581 - accuracy: 0.8097 - val_loss: 0.4582 - val_accuracy: 0.8632\n",
      "\n",
      "Epoch 00067: val_loss improved from 0.46890 to 0.45815, saving model to models/mlp_basic_model.hdf5\n",
      "Epoch 68/100\n",
      "6985/6985 [==============================] - 0s 71us/step - loss: 0.5818 - accuracy: 0.7987 - val_loss: 0.4667 - val_accuracy: 0.8649\n",
      "\n",
      "Epoch 00068: val_loss did not improve from 0.45815\n",
      "Epoch 69/100\n",
      "6985/6985 [==============================] - 1s 110us/step - loss: 0.5505 - accuracy: 0.8156 - val_loss: 0.4810 - val_accuracy: 0.8592\n",
      "\n",
      "Epoch 00069: val_loss did not improve from 0.45815\n",
      "Epoch 70/100\n",
      "6985/6985 [==============================] - 1s 94us/step - loss: 0.5533 - accuracy: 0.8125 - val_loss: 0.4687 - val_accuracy: 0.8620\n",
      "\n",
      "Epoch 00070: val_loss did not improve from 0.45815\n",
      "Epoch 71/100\n",
      "6985/6985 [==============================] - 0s 68us/step - loss: 0.5616 - accuracy: 0.8103 - val_loss: 0.4671 - val_accuracy: 0.8626\n",
      "\n",
      "Epoch 00071: val_loss did not improve from 0.45815\n",
      "Epoch 72/100\n"
     ]
    },
    {
     "name": "stdout",
     "output_type": "stream",
     "text": [
      "6985/6985 [==============================] - 0s 69us/step - loss: 0.5436 - accuracy: 0.8105 - val_loss: 0.4562 - val_accuracy: 0.8695\n",
      "\n",
      "Epoch 00072: val_loss improved from 0.45815 to 0.45616, saving model to models/mlp_basic_model.hdf5\n",
      "Epoch 73/100\n",
      "6985/6985 [==============================] - 1s 91us/step - loss: 0.5521 - accuracy: 0.8190 - val_loss: 0.4634 - val_accuracy: 0.8626\n",
      "\n",
      "Epoch 00073: val_loss did not improve from 0.45616\n",
      "Epoch 74/100\n",
      "6985/6985 [==============================] - 1s 75us/step - loss: 0.5477 - accuracy: 0.8179 - val_loss: 0.4599 - val_accuracy: 0.8603\n",
      "\n",
      "Epoch 00074: val_loss did not improve from 0.45616\n",
      "Epoch 75/100\n",
      "6985/6985 [==============================] - 0s 65us/step - loss: 0.5373 - accuracy: 0.8137 - val_loss: 0.4692 - val_accuracy: 0.8695\n",
      "\n",
      "Epoch 00075: val_loss did not improve from 0.45616\n",
      "Epoch 76/100\n",
      "6985/6985 [==============================] - 0s 61us/step - loss: 0.5301 - accuracy: 0.8185 - val_loss: 0.4611 - val_accuracy: 0.8695\n",
      "\n",
      "Epoch 00076: val_loss did not improve from 0.45616\n",
      "Epoch 77/100\n",
      "6985/6985 [==============================] - 0s 62us/step - loss: 0.5619 - accuracy: 0.8125 - val_loss: 0.4638 - val_accuracy: 0.8592\n",
      "\n",
      "Epoch 00077: val_loss did not improve from 0.45616\n",
      "Epoch 78/100\n",
      "6985/6985 [==============================] - 0s 64us/step - loss: 0.5354 - accuracy: 0.8163 - val_loss: 0.4634 - val_accuracy: 0.8615\n",
      "\n",
      "Epoch 00078: val_loss did not improve from 0.45616\n",
      "Epoch 79/100\n",
      "6985/6985 [==============================] - 0s 63us/step - loss: 0.5480 - accuracy: 0.8196 - val_loss: 0.4633 - val_accuracy: 0.8649\n",
      "\n",
      "Epoch 00079: val_loss did not improve from 0.45616\n",
      "Epoch 80/100\n",
      "6985/6985 [==============================] - 0s 59us/step - loss: 0.5364 - accuracy: 0.8195 - val_loss: 0.4626 - val_accuracy: 0.8620\n",
      "\n",
      "Epoch 00080: val_loss did not improve from 0.45616\n",
      "Epoch 81/100\n",
      "6985/6985 [==============================] - 0s 66us/step - loss: 0.5387 - accuracy: 0.8189 - val_loss: 0.4787 - val_accuracy: 0.8598\n",
      "\n",
      "Epoch 00081: val_loss did not improve from 0.45616\n",
      "Epoch 82/100\n",
      "6985/6985 [==============================] - 0s 63us/step - loss: 0.5723 - accuracy: 0.8142 - val_loss: 0.4523 - val_accuracy: 0.8643\n",
      "\n",
      "Epoch 00082: val_loss improved from 0.45616 to 0.45229, saving model to models/mlp_basic_model.hdf5\n",
      "Epoch 83/100\n",
      "6985/6985 [==============================] - 0s 63us/step - loss: 0.5485 - accuracy: 0.8175 - val_loss: 0.4551 - val_accuracy: 0.8598\n",
      "\n",
      "Epoch 00083: val_loss did not improve from 0.45229\n",
      "Epoch 84/100\n",
      "6985/6985 [==============================] - 0s 66us/step - loss: 0.5365 - accuracy: 0.8210 - val_loss: 0.4378 - val_accuracy: 0.8661\n",
      "\n",
      "Epoch 00084: val_loss improved from 0.45229 to 0.43783, saving model to models/mlp_basic_model.hdf5\n",
      "Epoch 85/100\n",
      "6985/6985 [==============================] - 0s 59us/step - loss: 0.5078 - accuracy: 0.8308 - val_loss: 0.4431 - val_accuracy: 0.8666\n",
      "\n",
      "Epoch 00085: val_loss did not improve from 0.43783\n",
      "Epoch 86/100\n",
      "6985/6985 [==============================] - 0s 61us/step - loss: 0.5314 - accuracy: 0.8216 - val_loss: 0.4395 - val_accuracy: 0.8695\n",
      "\n",
      "Epoch 00086: val_loss did not improve from 0.43783\n",
      "Epoch 87/100\n",
      "6985/6985 [==============================] - 0s 64us/step - loss: 0.5271 - accuracy: 0.8241 - val_loss: 0.4391 - val_accuracy: 0.8649\n",
      "\n",
      "Epoch 00087: val_loss did not improve from 0.43783\n",
      "Epoch 88/100\n",
      "6985/6985 [==============================] - 0s 64us/step - loss: 0.5286 - accuracy: 0.8170 - val_loss: 0.4618 - val_accuracy: 0.8603\n",
      "\n",
      "Epoch 00088: val_loss did not improve from 0.43783\n",
      "Epoch 89/100\n",
      "6985/6985 [==============================] - 0s 61us/step - loss: 0.5382 - accuracy: 0.8230 - val_loss: 0.4462 - val_accuracy: 0.8689\n",
      "\n",
      "Epoch 00089: val_loss did not improve from 0.43783\n",
      "Epoch 90/100\n",
      "6985/6985 [==============================] - 0s 64us/step - loss: 0.5294 - accuracy: 0.8226 - val_loss: 0.4483 - val_accuracy: 0.8655\n",
      "\n",
      "Epoch 00090: val_loss did not improve from 0.43783\n",
      "Epoch 91/100\n",
      "6985/6985 [==============================] - 0s 66us/step - loss: 0.5446 - accuracy: 0.8219 - val_loss: 0.4466 - val_accuracy: 0.8643\n",
      "\n",
      "Epoch 00091: val_loss did not improve from 0.43783\n",
      "Epoch 92/100\n",
      "6985/6985 [==============================] - 0s 68us/step - loss: 0.5234 - accuracy: 0.8238 - val_loss: 0.4441 - val_accuracy: 0.8701\n",
      "\n",
      "Epoch 00092: val_loss did not improve from 0.43783\n",
      "Epoch 93/100\n",
      "6985/6985 [==============================] - 0s 64us/step - loss: 0.5166 - accuracy: 0.8199 - val_loss: 0.4343 - val_accuracy: 0.8655\n",
      "\n",
      "Epoch 00093: val_loss improved from 0.43783 to 0.43431, saving model to models/mlp_basic_model.hdf5\n",
      "Epoch 94/100\n",
      "6985/6985 [==============================] - 0s 65us/step - loss: 0.5050 - accuracy: 0.8276 - val_loss: 0.4316 - val_accuracy: 0.8786\n",
      "\n",
      "Epoch 00094: val_loss improved from 0.43431 to 0.43157, saving model to models/mlp_basic_model.hdf5\n",
      "Epoch 95/100\n",
      "6985/6985 [==============================] - 0s 69us/step - loss: 0.5035 - accuracy: 0.8312 - val_loss: 0.4346 - val_accuracy: 0.8626\n",
      "\n",
      "Epoch 00095: val_loss did not improve from 0.43157\n",
      "Epoch 96/100\n",
      "6985/6985 [==============================] - 0s 64us/step - loss: 0.5047 - accuracy: 0.8302 - val_loss: 0.4380 - val_accuracy: 0.8729\n",
      "\n",
      "Epoch 00096: val_loss did not improve from 0.43157\n",
      "Epoch 97/100\n",
      "6985/6985 [==============================] - 0s 65us/step - loss: 0.5250 - accuracy: 0.8262 - val_loss: 0.4599 - val_accuracy: 0.8615\n",
      "\n",
      "Epoch 00097: val_loss did not improve from 0.43157\n",
      "Epoch 98/100\n",
      "6985/6985 [==============================] - 0s 64us/step - loss: 0.5095 - accuracy: 0.8279 - val_loss: 0.4499 - val_accuracy: 0.8632\n",
      "\n",
      "Epoch 00098: val_loss did not improve from 0.43157\n",
      "Epoch 99/100\n",
      "6985/6985 [==============================] - 0s 69us/step - loss: 0.5448 - accuracy: 0.8169 - val_loss: 0.4433 - val_accuracy: 0.8798\n",
      "\n",
      "Epoch 00099: val_loss did not improve from 0.43157\n",
      "Epoch 100/100\n",
      "6985/6985 [==============================] - 0s 61us/step - loss: 0.5045 - accuracy: 0.8365 - val_loss: 0.4493 - val_accuracy: 0.8735\n",
      "\n",
      "Epoch 00100: val_loss did not improve from 0.43157\n",
      "Training completed in time:  0:00:48.580246\n"
     ]
    }
   ],
   "source": [
    "# inputs\n",
    "NUM_EPOCH = 100\n",
    "NUM_BATCH = 32\n",
    "\n",
    "# model name\n",
    "MODEL_NAME = 'mlp_basic_model.hdf5'\n",
    "\n",
    "checkpointer = ModelCheckpoint(filepath= MODEL_FP + MODEL_NAME, \n",
    "                               verbose=1, save_best_only=True)\n",
    "\n",
    "# begin training\n",
    "starttime = datetime.now()\n",
    "\n",
    "# train the model\n",
    "model.fit(x_train, \n",
    "          y_train, \n",
    "          batch_size=NUM_BATCH, \n",
    "          epochs=NUM_EPOCH, \n",
    "          validation_data=(x_test, y_test), \n",
    "          callbacks=[checkpointer], verbose=1)\n",
    "\n",
    "duration = datetime.now() - starttime\n",
    "print(\"Training completed in time: \", duration)"
   ]
  },
  {
   "cell_type": "markdown",
   "metadata": {},
   "source": [
    "# Test the model"
   ]
  },
  {
   "cell_type": "code",
   "execution_count": 144,
   "metadata": {},
   "outputs": [
    {
     "name": "stdout",
     "output_type": "stream",
     "text": [
      "Trained model on testing sets accuracy: 87.3497%\n"
     ]
    }
   ],
   "source": [
    "# test with testing data\n",
    "score = model.evaluate(x_test, y_test, verbose=0)\n",
    "accuracy = 100 * score[1]\n",
    "print(\"Trained model on testing sets accuracy: %.4f%%\" % accuracy)"
   ]
  },
  {
   "cell_type": "code",
   "execution_count": 145,
   "metadata": {},
   "outputs": [
    {
     "name": "stdout",
     "output_type": "stream",
     "text": [
      "Trained model on training sets accuracy: 92.8848%\n"
     ]
    }
   ],
   "source": [
    "# test with training data\n",
    "score = model.evaluate(x_train, y_train, verbose=0)\n",
    "accuracy = 100 * score[1]\n",
    "print(\"Trained model on training sets accuracy: %.4f%%\" % accuracy)"
   ]
  },
  {
   "cell_type": "markdown",
   "metadata": {},
   "source": [
    "[Observations]\n",
    "- Pre-training model accuracy is 11%.\n",
    "- Trained model accuracy is 87%.\n",
    "- Training sets accuracy is > testing sets accuracy, this indicate that the model has not suffered from overfitting"
   ]
  },
  {
   "cell_type": "markdown",
   "metadata": {},
   "source": [
    "### Confusion Matrix and Classification Report"
   ]
  },
  {
   "cell_type": "code",
   "execution_count": 122,
   "metadata": {},
   "outputs": [],
   "source": [
    "# predict the test data using the model\n",
    "predictions = model.predict(x_test)"
   ]
  },
  {
   "cell_type": "code",
   "execution_count": 123,
   "metadata": {},
   "outputs": [],
   "source": [
    "# convert array into vector (classes in number)\n",
    "\n",
    "# get the selected classses in testing data set\n",
    "val_test = np.zeros((y_test.shape[0],1))\n",
    "for i in range(val_test.shape[0]):\n",
    "\n",
    "    # for CATEGORICAL: pick the highest confidence value\n",
    "    val_test[i] = np.argmax(y_test[i])\n",
    "\n",
    "# get the predicted classes\n",
    "val_preds = np.zeros((predictions.shape[0],1))\n",
    "for i in range(predictions.shape[0]):\n",
    "\n",
    "    # for CATEGORICAL: pick the highest confidence value\n",
    "    val_preds[i] = np.argmax(predictions[i])\n",
    "    "
   ]
  },
  {
   "cell_type": "code",
   "execution_count": 124,
   "metadata": {},
   "outputs": [
    {
     "data": {
      "text/plain": [
       "array([[9.],\n",
       "       [3.],\n",
       "       [8.],\n",
       "       ...,\n",
       "       [4.],\n",
       "       [7.],\n",
       "       [3.]])"
      ]
     },
     "execution_count": 124,
     "metadata": {},
     "output_type": "execute_result"
    }
   ],
   "source": [
    "# snippet of predicted class\n",
    "val_preds"
   ]
  },
  {
   "cell_type": "code",
   "execution_count": 126,
   "metadata": {},
   "outputs": [],
   "source": [
    "# define classes\n",
    "# 0 = air_conditioner\n",
    "# 1 = car_horn\n",
    "# 2 = children_playing\n",
    "# 3 = dog_bark\n",
    "# 4 = drilling\n",
    "# 5 = engine_idling\n",
    "# 6 = gun_shot\n",
    "# 7 = jackhammer\n",
    "# 8 = siren\n",
    "# 9 = street_music\n",
    "    \n",
    "class_label = ['air_conditioner', 'car_horn', 'children_playing', 'dog_bark',\n",
    "          'drilling', 'engine_idling', 'gun_shot', 'jackhammer',\n",
    "          'siren', 'street_music']"
   ]
  },
  {
   "cell_type": "code",
   "execution_count": 127,
   "metadata": {},
   "outputs": [
    {
     "name": "stdout",
     "output_type": "stream",
     "text": [
      "              precision    recall  f1-score   support\n",
      "\n",
      "         0.0       0.95      0.93      0.94       192\n",
      "         1.0       0.94      0.88      0.91        77\n",
      "         2.0       0.68      0.83      0.75       202\n",
      "         3.0       0.89      0.75      0.81       219\n",
      "         4.0       0.92      0.91      0.92       185\n",
      "         5.0       0.96      0.95      0.96       206\n",
      "         6.0       0.91      0.68      0.78        63\n",
      "         7.0       0.94      0.96      0.95       196\n",
      "         8.0       0.97      0.91      0.94       191\n",
      "         9.0       0.74      0.83      0.78       216\n",
      "\n",
      "   micro avg       0.87      0.87      0.87      1747\n",
      "   macro avg       0.89      0.86      0.87      1747\n",
      "weighted avg       0.88      0.87      0.88      1747\n",
      "\n"
     ]
    }
   ],
   "source": [
    "# Evaluate the model: using classification report and confusion matrix\n",
    "# using classification report and confusion matrix\n",
    "from sklearn.metrics import classification_report, confusion_matrix\n",
    "\n",
    "# show classification report\n",
    "print(classification_report(val_test, val_preds))"
   ]
  },
  {
   "cell_type": "code",
   "execution_count": 128,
   "metadata": {},
   "outputs": [
    {
     "name": "stdout",
     "output_type": "stream",
     "text": [
      "Confusion matrix, without normalization\n",
      "[[178   0   8   0   0   0   0   0   0   6]\n",
      " [  0  68   1   0   0   0   0   3   0   5]\n",
      " [  5   2 168   4   3   2   0   3   0  15]\n",
      " [  0   0  25 164   3   1   4   0   3  19]\n",
      " [  0   0   1   2 168   1   0   5   0   8]\n",
      " [  1   0   1   1   0 196   0   0   2   5]\n",
      " [  0   1   9   9   0   0  43   0   0   1]\n",
      " [  1   0   1   0   4   0   0 188   0   2]\n",
      " [  0   0   7   3   2   2   0   0 174   3]\n",
      " [  2   1  25   2   2   2   0   2   1 179]]\n"
     ]
    },
    {
     "data": {
      "image/png": "[encoded data removed]",
      "text/plain": [
       "<Figure size 720x720 with 2 Axes>"
      ]
     },
     "metadata": {
      "needs_background": "light"
     },
     "output_type": "display_data"
    }
   ],
   "source": [
    "# show confusion matrix\n",
    "# confusion_matrix(y_true, y_pred)\n",
    "cm = confusion_matrix(val_test, val_preds)\n",
    "\n",
    "# plot confusion matrix\n",
    "plt.figure(figsize=(10,10))\n",
    "plot_confusion_matrix(cm=cm, classes=class_label, title='Confusion Matrix' )"
   ]
  },
  {
   "cell_type": "markdown",
   "metadata": {},
   "source": [
    "# Test the model with sample audio"
   ]
  },
  {
   "cell_type": "code",
   "execution_count": 129,
   "metadata": {},
   "outputs": [
    {
     "data": {
      "text/html": [
       "<div>\n",
       "<style scoped>\n",
       "    .dataframe tbody tr th:only-of-type {\n",
       "        vertical-align: middle;\n",
       "    }\n",
       "\n",
       "    .dataframe tbody tr th {\n",
       "        vertical-align: top;\n",
       "    }\n",
       "\n",
       "    .dataframe thead th {\n",
       "        text-align: right;\n",
       "    }\n",
       "</style>\n",
       "<table border=\"1\" class=\"dataframe\">\n",
       "  <thead>\n",
       "    <tr style=\"text-align: right;\">\n",
       "      <th></th>\n",
       "      <th>slice_file_name</th>\n",
       "      <th>fsID</th>\n",
       "      <th>start</th>\n",
       "      <th>end</th>\n",
       "      <th>salience</th>\n",
       "      <th>fold</th>\n",
       "      <th>classID</th>\n",
       "      <th>class_name</th>\n",
       "    </tr>\n",
       "  </thead>\n",
       "  <tbody>\n",
       "    <tr>\n",
       "      <th>0</th>\n",
       "      <td>100852-0-0-0.wav</td>\n",
       "      <td>100852</td>\n",
       "      <td>0.000000</td>\n",
       "      <td>4.000000</td>\n",
       "      <td>1</td>\n",
       "      <td>5</td>\n",
       "      <td>0</td>\n",
       "      <td>air_conditioner</td>\n",
       "    </tr>\n",
       "    <tr>\n",
       "      <th>1</th>\n",
       "      <td>100648-1-0-0.wav</td>\n",
       "      <td>100648</td>\n",
       "      <td>4.823402</td>\n",
       "      <td>5.471927</td>\n",
       "      <td>2</td>\n",
       "      <td>10</td>\n",
       "      <td>1</td>\n",
       "      <td>car_horn</td>\n",
       "    </tr>\n",
       "    <tr>\n",
       "      <th>2</th>\n",
       "      <td>100263-2-0-117.wav</td>\n",
       "      <td>100263</td>\n",
       "      <td>58.500000</td>\n",
       "      <td>62.500000</td>\n",
       "      <td>1</td>\n",
       "      <td>5</td>\n",
       "      <td>2</td>\n",
       "      <td>children_playing</td>\n",
       "    </tr>\n",
       "    <tr>\n",
       "      <th>3</th>\n",
       "      <td>100032-3-0-0.wav</td>\n",
       "      <td>100032</td>\n",
       "      <td>0.000000</td>\n",
       "      <td>0.317551</td>\n",
       "      <td>1</td>\n",
       "      <td>5</td>\n",
       "      <td>3</td>\n",
       "      <td>dog_bark</td>\n",
       "    </tr>\n",
       "    <tr>\n",
       "      <th>4</th>\n",
       "      <td>103199-4-0-0.wav</td>\n",
       "      <td>103199</td>\n",
       "      <td>0.000000</td>\n",
       "      <td>4.000000</td>\n",
       "      <td>1</td>\n",
       "      <td>3</td>\n",
       "      <td>4</td>\n",
       "      <td>drilling</td>\n",
       "    </tr>\n",
       "    <tr>\n",
       "      <th>5</th>\n",
       "      <td>102857-5-0-0.wav</td>\n",
       "      <td>102857</td>\n",
       "      <td>0.000000</td>\n",
       "      <td>4.000000</td>\n",
       "      <td>1</td>\n",
       "      <td>10</td>\n",
       "      <td>5</td>\n",
       "      <td>engine_idling</td>\n",
       "    </tr>\n",
       "    <tr>\n",
       "      <th>6</th>\n",
       "      <td>102305-6-0-0.wav</td>\n",
       "      <td>102305</td>\n",
       "      <td>0.000000</td>\n",
       "      <td>2.611610</td>\n",
       "      <td>1</td>\n",
       "      <td>1</td>\n",
       "      <td>6</td>\n",
       "      <td>gun_shot</td>\n",
       "    </tr>\n",
       "    <tr>\n",
       "      <th>7</th>\n",
       "      <td>103074-7-0-0.wav</td>\n",
       "      <td>103074</td>\n",
       "      <td>3.341279</td>\n",
       "      <td>7.341279</td>\n",
       "      <td>1</td>\n",
       "      <td>1</td>\n",
       "      <td>7</td>\n",
       "      <td>jackhammer</td>\n",
       "    </tr>\n",
       "    <tr>\n",
       "      <th>8</th>\n",
       "      <td>102853-8-0-0.wav</td>\n",
       "      <td>102853</td>\n",
       "      <td>0.000000</td>\n",
       "      <td>4.000000</td>\n",
       "      <td>2</td>\n",
       "      <td>7</td>\n",
       "      <td>8</td>\n",
       "      <td>siren</td>\n",
       "    </tr>\n",
       "    <tr>\n",
       "      <th>9</th>\n",
       "      <td>101848-9-0-0.wav</td>\n",
       "      <td>101848</td>\n",
       "      <td>0.000000</td>\n",
       "      <td>4.000000</td>\n",
       "      <td>1</td>\n",
       "      <td>7</td>\n",
       "      <td>9</td>\n",
       "      <td>street_music</td>\n",
       "    </tr>\n",
       "  </tbody>\n",
       "</table>\n",
       "</div>"
      ],
      "text/plain": [
       "      slice_file_name    fsID      start        end  salience  fold  classID  \\\n",
       "0    100852-0-0-0.wav  100852   0.000000   4.000000         1     5        0   \n",
       "1    100648-1-0-0.wav  100648   4.823402   5.471927         2    10        1   \n",
       "2  100263-2-0-117.wav  100263  58.500000  62.500000         1     5        2   \n",
       "3    100032-3-0-0.wav  100032   0.000000   0.317551         1     5        3   \n",
       "4    103199-4-0-0.wav  103199   0.000000   4.000000         1     3        4   \n",
       "5    102857-5-0-0.wav  102857   0.000000   4.000000         1    10        5   \n",
       "6    102305-6-0-0.wav  102305   0.000000   2.611610         1     1        6   \n",
       "7    103074-7-0-0.wav  103074   3.341279   7.341279         1     1        7   \n",
       "8    102853-8-0-0.wav  102853   0.000000   4.000000         2     7        8   \n",
       "9    101848-9-0-0.wav  101848   0.000000   4.000000         1     7        9   \n",
       "\n",
       "         class_name  \n",
       "0   air_conditioner  \n",
       "1          car_horn  \n",
       "2  children_playing  \n",
       "3          dog_bark  \n",
       "4          drilling  \n",
       "5     engine_idling  \n",
       "6          gun_shot  \n",
       "7        jackhammer  \n",
       "8             siren  \n",
       "9      street_music  "
      ]
     },
     "execution_count": 129,
     "metadata": {},
     "output_type": "execute_result"
    }
   ],
   "source": [
    "# load sample audio\n",
    "list_audio = pd.read_excel(SAMPLE_AUDIO_FP + SAMPLE_AUDIO_FN)\n",
    "list_audio"
   ]
  },
  {
   "cell_type": "code",
   "execution_count": 140,
   "metadata": {},
   "outputs": [
    {
     "name": "stdout",
     "output_type": "stream",
     "text": [
      "The original class is: air_conditioner\n",
      "The predicted class is: air_conditioner \n",
      "\n"
     ]
    },
    {
     "data": {
      "image/png": "[encoded data removed]",
      "text/plain": [
       "<Figure size 576x288 with 1 Axes>"
      ]
     },
     "metadata": {
      "needs_background": "light"
     },
     "output_type": "display_data"
    },
    {
     "name": "stdout",
     "output_type": "stream",
     "text": [
      "\n",
      "\n",
      "The original class is: car_horn\n",
      "The predicted class is: car_horn \n",
      "\n"
     ]
    },
    {
     "data": {
      "image/png": "[encoded data removed]",
      "text/plain": [
       "<Figure size 576x288 with 1 Axes>"
      ]
     },
     "metadata": {
      "needs_background": "light"
     },
     "output_type": "display_data"
    },
    {
     "name": "stdout",
     "output_type": "stream",
     "text": [
      "\n",
      "\n",
      "The original class is: children_playing\n",
      "The predicted class is: children_playing \n",
      "\n"
     ]
    },
    {
     "data": {
      "image/png": "[encoded data removed]",
      "text/plain": [
       "<Figure size 576x288 with 1 Axes>"
      ]
     },
     "metadata": {
      "needs_background": "light"
     },
     "output_type": "display_data"
    },
    {
     "name": "stdout",
     "output_type": "stream",
     "text": [
      "\n",
      "\n",
      "The original class is: dog_bark\n",
      "The predicted class is: dog_bark \n",
      "\n"
     ]
    },
    {
     "data": {
      "image/png": "[encoded data removed]",
      "text/plain": [
       "<Figure size 576x288 with 1 Axes>"
      ]
     },
     "metadata": {
      "needs_background": "light"
     },
     "output_type": "display_data"
    },
    {
     "name": "stdout",
     "output_type": "stream",
     "text": [
      "\n",
      "\n",
      "The original class is: drilling\n",
      "The predicted class is: drilling \n",
      "\n"
     ]
    },
    {
     "data": {
      "image/png": "[encoded data removed]",
      "text/plain": [
       "<Figure size 576x288 with 1 Axes>"
      ]
     },
     "metadata": {
      "needs_background": "light"
     },
     "output_type": "display_data"
    },
    {
     "name": "stdout",
     "output_type": "stream",
     "text": [
      "\n",
      "\n",
      "The original class is: engine_idling\n",
      "The predicted class is: engine_idling \n",
      "\n"
     ]
    },
    {
     "data": {
      "image/png": "[encoded data removed]",
      "text/plain": [
       "<Figure size 576x288 with 1 Axes>"
      ]
     },
     "metadata": {
      "needs_background": "light"
     },
     "output_type": "display_data"
    },
    {
     "name": "stdout",
     "output_type": "stream",
     "text": [
      "\n",
      "\n",
      "The original class is: gun_shot\n",
      "The predicted class is: children_playing \n",
      "\n"
     ]
    },
    {
     "data": {
      "image/png": "[encoded data removed]",
      "text/plain": [
       "<Figure size 576x288 with 1 Axes>"
      ]
     },
     "metadata": {
      "needs_background": "light"
     },
     "output_type": "display_data"
    },
    {
     "name": "stdout",
     "output_type": "stream",
     "text": [
      "\n",
      "\n",
      "The original class is: jackhammer\n",
      "The predicted class is: jackhammer \n",
      "\n"
     ]
    },
    {
     "data": {
      "image/png": "[encoded data removed]",
      "text/plain": [
       "<Figure size 576x288 with 1 Axes>"
      ]
     },
     "metadata": {
      "needs_background": "light"
     },
     "output_type": "display_data"
    },
    {
     "name": "stdout",
     "output_type": "stream",
     "text": [
      "\n",
      "\n",
      "The original class is: siren\n",
      "The predicted class is: siren \n",
      "\n"
     ]
    },
    {
     "data": {
      "image/png": "[encoded data removed]",
      "text/plain": [
       "<Figure size 576x288 with 1 Axes>"
      ]
     },
     "metadata": {
      "needs_background": "light"
     },
     "output_type": "display_data"
    },
    {
     "name": "stdout",
     "output_type": "stream",
     "text": [
      "\n",
      "\n",
      "The original class is: street_music\n",
      "The predicted class is: street_music \n",
      "\n"
     ]
    },
    {
     "data": {
      "image/png": "[encoded data removed]",
      "text/plain": [
       "<Figure size 576x288 with 1 Axes>"
      ]
     },
     "metadata": {
      "needs_background": "light"
     },
     "output_type": "display_data"
    },
    {
     "name": "stdout",
     "output_type": "stream",
     "text": [
      "\n",
      "\n"
     ]
    }
   ],
   "source": [
    "# test all sample audio with the model\n",
    "for i, row in list_audio.iterrows():\n",
    "    classname = row['class_name']\n",
    "    audiofile = row['slice_file_name']\n",
    "    \n",
    "    # audio full file name\n",
    "    audio_ffn = SAMPLE_AUDIO_FP + audiofile\n",
    "    \n",
    "    # feature\n",
    "    feature = extract_feature(audio_ffn)\n",
    "    \n",
    "    # predicted class\n",
    "    pred_vector = model.predict_classes(feature)\n",
    "    pred_class = LabelEncoder.inverse_transform(pred_vector) \n",
    "    \n",
    "    # all class prediction probability\n",
    "    pred_prob_vector = model.predict_proba(feature)\n",
    "    pred_prob_class = pred_prob_vector[0]\n",
    "    \n",
    "    # print out results\n",
    "    print(\"The original class is:\", classname)\n",
    "    print(\"The predicted class is:\", pred_class[0], '\\n')  \n",
    "    \n",
    "    # display all predict probability\n",
    "    #for i in range(len(pred_prob_class)): \n",
    "    #    category = LabelEncoder.inverse_transform(np.array([i]))\n",
    "    #    print(\"{:.2%}\".format(pred_prob_class[i]), category[0] )\n",
    "    \n",
    "    # display all predict probability\n",
    "    plt.figure(figsize=(8,4))\n",
    "    plt.barh(class_label, pred_prob_class)\n",
    "    plt.title(\"sample audio prediction: {}\".format(audiofile))\n",
    "    plt.show()\n",
    "    \n",
    "    print('\\n')\n"
   ]
  },
  {
   "cell_type": "code",
   "execution_count": null,
   "metadata": {},
   "outputs": [],
   "source": []
  }
 ],
 "metadata": {
  "kernelspec": {
   "display_name": "Python 3",
   "language": "python",
   "name": "python3"
  },
  "language_info": {
   "codemirror_mode": {
    "name": "ipython",
    "version": 3
   },
   "file_extension": ".py",
   "mimetype": "text/x-python",
   "name": "python",
   "nbconvert_exporter": "python",
   "pygments_lexer": "ipython3",
   "version": "3.7.1"
  }
 },
 "nbformat": 4,
 "nbformat_minor": 2
}
