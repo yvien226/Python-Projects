{
 "cells": [
  {
   "cell_type": "code",
   "execution_count": 128,
   "metadata": {},
   "outputs": [],
   "source": [
    "# packages\n",
    "import win32com.client, datetime\n",
    "from win32com.client import Dispatch\n",
    "import datetime as date\n",
    "import os.path"
   ]
  },
  {
   "cell_type": "code",
   "execution_count": 129,
   "metadata": {},
   "outputs": [],
   "source": [
    "# file path\n",
    "fp = 'C:\\\\Users\\\\xxxx\\\\Documents\\\\Python Scripts\\\\Sample Data\\\\Incoming Data'"
   ]
  },
  {
   "cell_type": "code",
   "execution_count": 130,
   "metadata": {},
   "outputs": [],
   "source": [
    "# get attachment file \n",
    "def getAttachment(msg,name):\n",
    "    \n",
    "    msgReceiveTime = msg.ReceivedTime\n",
    "\n",
    "    filename = name # name of the file to download\n",
    "    for att in msg.Attachments:\n",
    "        try:\n",
    "            cnt = 0\n",
    "            if att.FileName.split('.')[0] == filename and att.FileName.split('.')[1] =='csv':\n",
    "                    saveFileName = att.FileName.split('.')[0] + msgReceiveTime.strftime(\"%d%m%Y\") + '.csv'\n",
    "\n",
    "                    # if file exists, then add number, add until no file exists\n",
    "                    while os.path.isfile(fp + '\\\\' + saveFileName) == True:\n",
    "                        cnt = cnt + 1\n",
    "                        saveFileName = att.FileName.split('.')[0] + msgReceiveTime.strftime(\"%d%m%Y\") + '_' + str(cnt) + '.csv'\n",
    "                        if os.path.isfile(fp + '\\\\' + saveFileName) == False:\n",
    "                            break\n",
    "                    \n",
    "                    # save attachment\n",
    "                    att.SaveASFile(fp + '\\\\' + saveFileName)\n",
    "\n",
    "        except:\n",
    "            print ('error')\n",
    "            continue\n"
   ]
  },
  {
   "cell_type": "code",
   "execution_count": 131,
   "metadata": {},
   "outputs": [],
   "source": [
    "# attach\n",
    "def attach(name):\n",
    "    outlook = Dispatch(\"Outlook.Application\").GetNamespace(\"MAPI\")\n",
    "    #inbox is the subfolder\n",
    "    inbox_sub = outlook.Folders['xxxx@xxxx.com.au'].Folders['Inbox'].Folders['UtiliView']\n",
    "    \n",
    "    #inbox = outlook.GetDefaultFolder(6)\n",
    "    \n",
    "    #items within the subfolder\n",
    "    all_inbox_sub = inbox_sub.Items\n",
    "    \n",
    "    for current_message in list(all_inbox_sub):\n",
    "        try:\n",
    "            #get attachment\n",
    "            getAttachment(current_message,name)    \n",
    "            \n",
    "            #delete mail\n",
    "            current_message.Delete()\n",
    "        except:\n",
    "            continue\n",
    "    \n",
    "    print (\"Mail Successfully Extracted\")"
   ]
  },
  {
   "cell_type": "code",
   "execution_count": 132,
   "metadata": {},
   "outputs": [
    {
     "name": "stdout",
     "output_type": "stream",
     "text": [
      "Mail Successfully Extracted\n"
     ]
    }
   ],
   "source": [
    "# download attachments\n",
    "attach('report')    "
   ]
  }
 ],
 "metadata": {
  "kernelspec": {
   "display_name": "Python 3",
   "language": "python",
   "name": "python3"
  },
  "language_info": {
   "codemirror_mode": {
    "name": "ipython",
    "version": 3
   },
   "file_extension": ".py",
   "mimetype": "text/x-python",
   "name": "python",
   "nbconvert_exporter": "python",
   "pygments_lexer": "ipython3",
   "version": "3.5.5"
  }
 },
 "nbformat": 4,
 "nbformat_minor": 2
}
