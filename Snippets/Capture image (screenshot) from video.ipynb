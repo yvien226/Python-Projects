{
 "cells": [
  {
   "cell_type": "markdown",
   "metadata": {},
   "source": [
    "# Capture image from video using opencv"
   ]
  },
  {
   "cell_type": "code",
   "execution_count": 2,
   "metadata": {},
   "outputs": [],
   "source": [
    "import cv2\n",
    "import os"
   ]
  },
  {
   "cell_type": "code",
   "execution_count": 35,
   "metadata": {},
   "outputs": [],
   "source": [
    "# video to images function\n",
    "# extract each frame from the video and save it as png in the output directory\n",
    "def video_to_images(video, path_output_dir, framesec):\n",
    "    cap = cv2.VideoCapture(video)\n",
    "    framerate = cap.get(cv2.CAP_PROP_FPS)\n",
    "    \n",
    "    # initialize\n",
    "    framecount = 0\n",
    "    count = 0\n",
    "    \n",
    "    # read video\n",
    "    while cap.isOpened():\n",
    "        success, image = cap.read()\n",
    "        framecount += 1\n",
    "        count += 1\n",
    "        \n",
    "        # Check if this is the frame closest to framesec (eg: 10 sec)\n",
    "        if framecount == round(framerate * framesec):            \n",
    "            \n",
    "            # write frame into png\n",
    "            if success:\n",
    "                cv2.imwrite(os.path.join(path_output_dir, '%d.png') % count, image)\n",
    "                \n",
    "                # reset framecount\n",
    "                framecount = 0\n",
    "            else:\n",
    "                break\n",
    "                \n",
    "    cv2.destroyAllWindows()\n",
    "    cap.release()"
   ]
  },
  {
   "cell_type": "code",
   "execution_count": 36,
   "metadata": {},
   "outputs": [],
   "source": [
    "# video file path\n",
    "videofp = 'infiltration clip.avi'\n",
    "\n",
    "# output directory\n",
    "outfp = 'out_screenshot'\n",
    "\n",
    "# run video to images\n",
    "video_to_images(videofp, outfp, 10)"
   ]
  },
  {
   "cell_type": "code",
   "execution_count": null,
   "metadata": {},
   "outputs": [],
   "source": []
  }
 ],
 "metadata": {
  "kernelspec": {
   "display_name": "Python 3",
   "language": "python",
   "name": "python3"
  },
  "language_info": {
   "codemirror_mode": {
    "name": "ipython",
    "version": 3
   },
   "file_extension": ".py",
   "mimetype": "text/x-python",
   "name": "python",
   "nbconvert_exporter": "python",
   "pygments_lexer": "ipython3",
   "version": "3.6.3"
  }
 },
 "nbformat": 4,
 "nbformat_minor": 2
}
