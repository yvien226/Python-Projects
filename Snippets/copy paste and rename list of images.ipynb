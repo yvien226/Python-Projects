{
 "cells": [
  {
   "cell_type": "markdown",
   "metadata": {},
   "source": [
    "# Copy images into a folder and rename it"
   ]
  },
  {
   "cell_type": "code",
   "execution_count": 46,
   "metadata": {},
   "outputs": [],
   "source": [
    "import sys\n",
    "import glob\n",
    "import pandas as pd\n",
    "import numpy as np\n",
    "import os\n",
    "import cv2\n",
    "import shutil\n",
    "import time"
   ]
  },
  {
   "cell_type": "code",
   "execution_count": 47,
   "metadata": {},
   "outputs": [],
   "source": [
    "# INPUTS\n",
    "\n",
    "# File path\n",
    "WORKING_FILEPATH = '\\\\xx'\n",
    "\n",
    "# Excel spreadsheet\n",
    "# this will contain Photo_Name: the rename file name (column1), and Photo_Path: the original file path (column2)\n",
    "XLS_FILENAME = 'list_photos.xlsx'\n",
    "\n",
    "# extracted photos folder\n",
    "EXTRACT_FILENAME = 'Extracted Pictures'"
   ]
  },
  {
   "cell_type": "code",
   "execution_count": 48,
   "metadata": {},
   "outputs": [],
   "source": [
    "# Excel full file path\n",
    "sheet_ffp = os.path.join(WORKING_FILEPATH, XLS_FILENAME)\n",
    "\n",
    "# New Image location\n",
    "new_image_filepath = os.path.join(WORKING_FILEPATH, EXTRACT_FILENAME)\n",
    "\n",
    "# Read excel file\n",
    "list_photos = pd.read_excel(sheet_ffp)"
   ]
  },
  {
   "cell_type": "code",
   "execution_count": null,
   "metadata": {},
   "outputs": [],
   "source": [
    "# total pictures\n",
    "tot_images = len(list_photos)\n",
    "\n",
    "tot_images"
   ]
  },
  {
   "cell_type": "code",
   "execution_count": null,
   "metadata": {},
   "outputs": [],
   "source": [
    "# copy picture into new folder and rename the picture\n",
    "lst = []\n",
    "for i, f in enumerate(list_photos.iterrows()):\n",
    "    \n",
    "    try:\n",
    "        \n",
    "    \n",
    "        # photo file path & file name\n",
    "        photo_path = list_photos['Photo_Path'][i]\n",
    "        filename = os.path.splitext(os.path.basename(photo_path))[0]\n",
    "\n",
    "        # new photo name\n",
    "        new_picname = list_photos['Photo_Name'][i]\n",
    "        \n",
    "        # load message\n",
    "        sys.stdout.write(\"\\r %s. running '%s' ...\" % (i+1, filename))\n",
    "        sys.stdout.flush()\n",
    "        time.sleep(0.1)\n",
    "\n",
    "        # copy photo into new folder\n",
    "        new_image_ffp = shutil.copy(list_photos['Photo_Path'][i], new_image_filepath)\n",
    "\n",
    "        # rename the photo\n",
    "        os.rename(new_image_ffp, new_image_filepath + \"\\\\\" + new_picname)\n",
    "        \n",
    "        # if successful lst = 1\n",
    "        lst.append(1)\n",
    "    except:\n",
    "        \n",
    "        # if not successful, lst = 0\n",
    "        lst.append(0)\n",
    "        continue"
   ]
  }
 ],
 "metadata": {
  "kernelspec": {
   "display_name": "Python 3",
   "language": "python",
   "name": "python3"
  },
  "language_info": {
   "codemirror_mode": {
    "name": "ipython",
    "version": 3
   },
   "file_extension": ".py",
   "mimetype": "text/x-python",
   "name": "python",
   "nbconvert_exporter": "python",
   "pygments_lexer": "ipython3",
   "version": "3.7.1"
  }
 },
 "nbformat": 4,
 "nbformat_minor": 2
}
