{
 "cells": [
  {
   "cell_type": "markdown",
   "metadata": {},
   "source": [
    "1. This is the aftermath of the data labelling for the image recognition. <br>\n",
    "2. The following script attempts to split images file into the train and test folder. <br>\n",
    "3. The Labelled Images folder contains images (jpg or png) and its xml file (some without xml). Its xml has the same file name as its image file name. <br>\n",
    "4. User can nominate the ratio of splits by entering the probability of Test images (PCT_TEST_IMAGES). The script will then randomly picks the amount of images & their xml by the percentage and move them into the Test folder, the remaining will be moved to Train folder. <br>\n",
    "eg: PCT_TEST_IMAGES = 0.1, total images = 100 <br>\n",
    "100 * 0.1 = 10 Images will be moved to Test folder, while 90 Images will be moved to Train folder.\n",
    "\n"
   ]
  },
  {
   "cell_type": "code",
   "execution_count": null,
   "metadata": {},
   "outputs": [],
   "source": [
    "# packages\n",
    "import win32com.client, datetime\n",
    "from win32com.client import Dispatch\n",
    "import os.path\n",
    "import random\n",
    "from PIL import Image\n",
    "import sys\n",
    "import shutil"
   ]
  },
  {
   "cell_type": "code",
   "execution_count": null,
   "metadata": {},
   "outputs": [],
   "source": [
    "# percentage of labelled images move to the Test folder (0-1)\n",
    "PCT_TEST_IMAGES = 0.1\n",
    "\n",
    "# path of labelled images\n",
    "PATH_LABELLED_IMAGES_DIR = 'Attempt 2/Labelled Images'\n",
    "\n",
    "# path of Train images\n",
    "PATH_TRAIN_IMAGES_DIR = 'Attempt 2/Train'\n",
    "\n",
    "# path of Test images\n",
    "PATH_TEST_IMAGES_DIR = 'Attempt 2/Test'\n",
    "\n",
    "# get images that are jpg or png\n",
    "LABELLED_IMAGE_PATHS = [os.path.join(PATH_LABELLED_IMAGES_DIR, img) for img in  os.listdir(PATH_LABELLED_IMAGES_DIR) if img.endswith(\".jpg\") or img.endswith(\".png\")]"
   ]
  },
  {
   "cell_type": "code",
   "execution_count": null,
   "metadata": {},
   "outputs": [],
   "source": [
    "# total images\n",
    "tot_images = len(LABELLED_IMAGE_PATHS)\n",
    "print (tot_images)"
   ]
  },
  {
   "cell_type": "code",
   "execution_count": null,
   "metadata": {},
   "outputs": [],
   "source": [
    "# number of images to move to the test folder\n",
    "tot_test_images = int(len(LABELLED_IMAGE_PATHS) * 0.1)\n",
    "\n",
    "print (tot_test_images)"
   ]
  },
  {
   "cell_type": "code",
   "execution_count": null,
   "metadata": {},
   "outputs": [],
   "source": [
    "# pick random numbers for test images\n",
    "rn= random.sample(range(1, tot_images), tot_test_images)"
   ]
  },
  {
   "cell_type": "code",
   "execution_count": null,
   "metadata": {},
   "outputs": [],
   "source": [
    "# for each images, if its .xml doesn't exists then move to unlabelled images path\n",
    "for cnt, image_path in enumerate(LABELLED_IMAGE_PATHS):\n",
    "    image = Image.open(image_path)\n",
    "    \n",
    "    # get the file name (get rid of image type eg: jpg/png)\\n\",\n",
    "    file_name, file_ext = os.path.splitext(image_path)\n",
    "    sfile_name = file_name.split('\\\\')\n",
    "    \n",
    "    # image's xml file name\n",
    "    xml_file_name = sfile_name[1] + '.xml'\n",
    "    \n",
    "    # image file name\n",
    "    img_file_name = sfile_name[1] + file_ext\n",
    "    \n",
    "    # close the image\n",
    "    image.close()\n",
    "    \n",
    "    # check if its count exists in the random number.\n",
    "    # if no, move to train image\n",
    "    if rn.count(cnt) == 0:\n",
    "        \n",
    "        # new file path for the train image\n",
    "        new_file_path = os.path.join(PATH_TRAIN_IMAGES_DIR , img_file_name)\n",
    "        new_file_path_xml = os.path.join(PATH_TRAIN_IMAGES_DIR , xml_file_name)\n",
    "    \n",
    "    # otherwise move to test image\n",
    "    else:\n",
    "        # new file path for the train image\n",
    "        new_file_path = os.path.join(PATH_TEST_IMAGES_DIR , img_file_name)\n",
    "        new_file_path_xml = os.path.join(PATH_TEST_IMAGES_DIR , xml_file_name)\n",
    "    \n",
    "    # move to new folder\n",
    "    shutil.move(image_path, new_file_path)\n",
    "    shutil.move(file_name + '.xml', new_file_path_xml)\n",
    "        "
   ]
  },
  {
   "cell_type": "code",
   "execution_count": null,
   "metadata": {},
   "outputs": [],
   "source": [
    "# number of test images\n",
    "test_path = [os.path.join(PATH_TEST_IMAGES_DIR, img) for img in  os.listdir(PATH_TEST_IMAGES_DIR) if img.endswith(\".jpg\") or img.endswith(\".png\")]\n",
    "print (len(test_path))"
   ]
  },
  {
   "cell_type": "code",
   "execution_count": null,
   "metadata": {},
   "outputs": [],
   "source": [
    "# number of train images\n",
    "train_path = [os.path.join(PATH_TRAIN_IMAGES_DIR, img) for img in  os.listdir(PATH_TRAIN_IMAGES_DIR) if img.endswith(\".jpg\") or img.endswith(\".png\")]\n",
    "print (len(train_path))"
   ]
  }
 ],
 "metadata": {
  "kernelspec": {
   "display_name": "Python 3",
   "language": "python",
   "name": "python3"
  },
  "language_info": {
   "codemirror_mode": {
    "name": "ipython",
    "version": 3
   },
   "file_extension": ".py",
   "mimetype": "text/x-python",
   "name": "python",
   "nbconvert_exporter": "python",
   "pygments_lexer": "ipython3",
   "version": "3.6.3"
  }
 },
 "nbformat": 4,
 "nbformat_minor": 2
}
